{
  "nbformat": 4,
  "nbformat_minor": 0,
  "metadata": {
    "colab": {
      "name": "ML project test 1.ipynb",
      "provenance": [],
      "collapsed_sections": [],
      "include_colab_link": true
    },
    "kernelspec": {
      "name": "python3",
      "display_name": "Python 3"
    },
    "language_info": {
      "name": "python"
    },
    "accelerator": "GPU"
  },
  "cells": [
    {
      "cell_type": "markdown",
      "metadata": {
        "id": "view-in-github",
        "colab_type": "text"
      },
      "source": [
        "<a href=\"https://colab.research.google.com/github/TannerLow/medical-image-calssifier/blob/main/ML_project_5_with_images.ipynb\" target=\"_parent\"><img src=\"https://colab.research.google.com/assets/colab-badge.svg\" alt=\"Open In Colab\"/></a>"
      ]
    },
    {
      "cell_type": "markdown",
      "metadata": {
        "id": "F67DTwxZMRRK"
      },
      "source": [
        "# Fetching the dataset automatically\n",
        "This does some setup to prepare the system to use kaggle's API and then downloads the dataset using kaggle's API all through code."
      ]
    },
    {
      "cell_type": "code",
      "metadata": {
        "id": "sv8GDNFishig",
        "colab": {
          "base_uri": "https://localhost:8080/"
        },
        "outputId": "05da6d6a-86df-4f6b-9346-198bf2fe90e6"
      },
      "source": [
        "! mkdir .kaggle\n",
        "! mv .kaggle /root/.kaggle\n",
        "file = open('/root/.kaggle/kaggle.json', 'w')\n",
        "file.write('{\"username\":\"name9006\",\"key\":\"59f18906073eb34224a05e9c03ad8607\"}')\n",
        "file.close()\n",
        "! kaggle datasets download -d andrewmvd/medical-mnist "
      ],
      "execution_count": 2,
      "outputs": [
        {
          "output_type": "stream",
          "name": "stdout",
          "text": [
            "Warning: Your Kaggle API key is readable by other users on this system! To fix this, you can run 'chmod 600 /root/.kaggle/kaggle.json'\n",
            "Downloading medical-mnist.zip to /content\n",
            " 94% 80.0M/84.8M [00:01<00:00, 67.2MB/s]\n",
            "100% 84.8M/84.8M [00:01<00:00, 69.1MB/s]\n"
          ]
        }
      ]
    },
    {
      "cell_type": "markdown",
      "metadata": {
        "id": "xW6dBGCgMeUQ"
      },
      "source": [
        "# Data preprocessing"
      ]
    },
    {
      "cell_type": "code",
      "metadata": {
        "id": "T3xJpds3Lu-f"
      },
      "source": [
        "!unzip \"medical-mnist.zip\" -d \"medical-mnist\""
      ],
      "execution_count": null,
      "outputs": []
    },
    {
      "cell_type": "code",
      "metadata": {
        "id": "Vc55d_b7PNXc",
        "colab": {
          "base_uri": "https://localhost:8080/",
          "height": 286
        },
        "outputId": "f3160db7-7700-4641-c153-31a8c21e8068"
      },
      "source": [
        "import numpy as np\n",
        "import matplotlib as mpl\n",
        "import matplotlib.pyplot as plt\n",
        "import os\n",
        "import cv2\n",
        "\n",
        "DATADIR = \"/content/medical-mnist\"\n",
        "CATEGORIES = [\"AbdomenCT\",\"BreastMRI\",\"CXR\",\"ChestCT\",\"Hand\",\"HeadCT\"]\n",
        "\n",
        "for category in CATEGORIES:\n",
        "  path = os.path.join(DATADIR, category) #Gets us into the path of the different categories\n",
        "  for img in os.listdir(path):\n",
        "    print(os.path.join(path, img))\n",
        "    img_array = cv2.imread(os.path.join(path,img), cv2.IMREAD_GRAYSCALE)\n",
        "    plt.imshow(img_array, cmap=\"gray\")\n",
        "    plt.show()\n",
        "    break # break to stop after displaying one image\n",
        "  break"
      ],
      "execution_count": 4,
      "outputs": [
        {
          "output_type": "stream",
          "name": "stdout",
          "text": [
            "/content/medical-mnist/AbdomenCT/005609.jpeg\n"
          ]
        },
        {
          "output_type": "display_data",
          "data": {
            "image/png": "[encoded data removed]",
            "text/plain": [
              "<Figure size 432x288 with 1 Axes>"
            ]
          },
          "metadata": {
            "needs_background": "light"
          }
        }
      ]
    },
    {
      "cell_type": "code",
      "metadata": {
        "colab": {
          "base_uri": "https://localhost:8080/"
        },
        "id": "oGgjtBqqScQ4",
        "outputId": "cf079391-7554-40d9-abd5-12f6fa5a6579"
      },
      "source": [
        "print(img_array.shape)"
      ],
      "execution_count": 5,
      "outputs": [
        {
          "output_type": "stream",
          "name": "stdout",
          "text": [
            "(64, 64)\n"
          ]
        }
      ]
    },
    {
      "cell_type": "code",
      "metadata": {
        "colab": {
          "base_uri": "https://localhost:8080/",
          "height": 267
        },
        "id": "ia0dXUYGTk-J",
        "outputId": "57e608f0-7aa0-4ab8-ce1b-e86f46909f48"
      },
      "source": [
        "IMG_SIZE = 50\n",
        "\n",
        "new_array = cv2.resize(img_array, (IMG_SIZE,IMG_SIZE))\n",
        "plt.imshow(new_array, cmap = \"gray\")\n",
        "plt.show()"
      ],
      "execution_count": 6,
      "outputs": [
        {
          "output_type": "display_data",
          "data": {
            "image/png": "[encoded data removed]",
            "text/plain": [
              "<Figure size 432x288 with 1 Axes>"
            ]
          },
          "metadata": {
            "needs_background": "light"
          }
        }
      ]
    },
    {
      "cell_type": "markdown",
      "metadata": {
        "id": "IcScnI3d9rMw"
      },
      "source": [
        "Store image data with label into an array"
      ]
    },
    {
      "cell_type": "code",
      "metadata": {
        "id": "jnRaFpTvT-ox"
      },
      "source": [
        "def create_training_data():\n",
        "  training_data = []\n",
        "  counts = {0:0, 1:0, 2:0, 3:0, 4:0, 5:0}\n",
        "  for category in CATEGORIES:\n",
        "    path = os.path.join(DATADIR, category) #Gets us into the path of the different categories\n",
        "    class_num = CATEGORIES.index(category)\n",
        "    for img in os.listdir(path):\n",
        "      try:\n",
        "        img_array = cv2.imread(os.path.join(path,img), cv2.IMREAD_GRAYSCALE)\n",
        "        new_array = cv2.resize(img_array, (IMG_SIZE,IMG_SIZE))\n",
        "        training_data.append([new_array, class_num])\n",
        "        counts[class_num] += 1\n",
        "      except Exception as e:\n",
        "        pass\n",
        "  print(counts)\n",
        "  return training_data"
      ],
      "execution_count": 7,
      "outputs": []
    },
    {
      "cell_type": "code",
      "metadata": {
        "colab": {
          "base_uri": "https://localhost:8080/"
        },
        "id": "5RdonoKO-IBG",
        "outputId": "031e5ced-5d41-44ee-b8bd-3fd9ec03d2cf"
      },
      "source": [
        "training_data = create_training_data()"
      ],
      "execution_count": 8,
      "outputs": [
        {
          "output_type": "stream",
          "name": "stdout",
          "text": [
            "{0: 10000, 1: 8954, 2: 10000, 3: 10000, 4: 10000, 5: 10000}\n"
          ]
        }
      ]
    },
    {
      "cell_type": "code",
      "metadata": {
        "colab": {
          "base_uri": "https://localhost:8080/"
        },
        "id": "r3FbSSkqUBqR",
        "outputId": "6351efe7-4735-475e-827d-dadd4813c46b"
      },
      "source": [
        "#seeing how many images are in the training data currently (All images from the set currently)\n",
        "print(len(training_data))"
      ],
      "execution_count": 9,
      "outputs": [
        {
          "output_type": "stream",
          "name": "stdout",
          "text": [
            "58954\n"
          ]
        }
      ]
    },
    {
      "cell_type": "code",
      "metadata": {
        "id": "5RY4uX_7VBw5"
      },
      "source": [
        "#Shuffle the data so that is randomized and can learn better\n",
        "np.random.seed(42)\n",
        "np.random.shuffle(training_data)"
      ],
      "execution_count": 10,
      "outputs": []
    },
    {
      "cell_type": "code",
      "metadata": {
        "id": "D0BMr6tNV8X5"
      },
      "source": [
        "X = []\n",
        "y = []"
      ],
      "execution_count": 12,
      "outputs": []
    },
    {
      "cell_type": "code",
      "metadata": {
        "id": "iNn5SltDWISx"
      },
      "source": [
        "for features, label in training_data:\n",
        "  X.append(features)\n",
        "  y.append(label)\n",
        "\n",
        "X = np.array(X).reshape(-1, IMG_SIZE, IMG_SIZE, 1)"
      ],
      "execution_count": 13,
      "outputs": []
    },
    {
      "cell_type": "code",
      "metadata": {
        "id": "JqWm8A_BWp-w"
      },
      "source": [
        "import pickle \n",
        "\n",
        "pickle_out = open(\"X.pickle\", \"wb\")\n",
        "pickle.dump(X, pickle_out)\n",
        "pickle_out.close()\n",
        "\n",
        "pickle_out = open(\"y.pickle\", \"wb\")\n",
        "pickle.dump(y, pickle_out)\n",
        "pickle_out.close()"
      ],
      "execution_count": 14,
      "outputs": []
    },
    {
      "cell_type": "code",
      "metadata": {
        "id": "pbK3LUTlXRuo"
      },
      "source": [
        "pickle_in = open(\"X.pickle\",\"rb\")\n",
        "X = pickle.load(pickle_in)"
      ],
      "execution_count": 15,
      "outputs": []
    },
    {
      "cell_type": "markdown",
      "metadata": {
        "id": "EOKMRFsmLmQH"
      },
      "source": [
        "Load the data into arrays"
      ]
    },
    {
      "cell_type": "code",
      "metadata": {
        "id": "JWqtag61FtEl"
      },
      "source": [
        "import pickle\n",
        "\n",
        "X = pickle.load(open(\"X.pickle\", \"rb\"))\n",
        "y = pickle.load(open(\"y.pickle\", \"rb\"))\n",
        "\n",
        "X = np.array(X)\n",
        "y = np.array(y)"
      ],
      "execution_count": 16,
      "outputs": []
    },
    {
      "cell_type": "markdown",
      "metadata": {
        "id": "JRWx38dwLp9k"
      },
      "source": [
        "Unpack the data into training, validation, and test sets."
      ]
    },
    {
      "cell_type": "code",
      "metadata": {
        "colab": {
          "base_uri": "https://localhost:8080/"
        },
        "id": "ob4WFmyHMm_U",
        "outputId": "8e826ad4-582d-4859-e6b1-2f8c3d52512a"
      },
      "source": [
        "X = X/255.0\n",
        "\n",
        "X_train_full, X_test = X[:-5000], X[-5000:]\n",
        "X_train, X_valid = X_train_full[:-5000], X_train_full[-5000:]\n",
        "\n",
        "y_train_full, y_test = y[:-5000], y[-5000:]\n",
        "y_train, y_valid = y_train_full[:-5000], y_train_full[-5000:]\n",
        "\n",
        "print(\"Full training dataset shape:\", X_train_full.shape)\n",
        "print(\"Test dataset shape:\", X_test.shape)\n",
        "print(\"Training dataset shape:\", X_train.shape)\n",
        "print(\"Validation dataset shape:\", X_valid.shape)\n",
        "print()\n",
        "\n",
        "print(\"Full training labelset shape:\", y_train_full.shape)\n",
        "print(\"Test labelset shape:\", y_test.shape)\n",
        "print(\"Training labelset shape:\", y_train.shape)\n",
        "print(\"Validation labelset shape:\", y_valid.shape)\n"
      ],
      "execution_count": 17,
      "outputs": [
        {
          "output_type": "stream",
          "name": "stdout",
          "text": [
            "Full training dataset shape: (53954, 50, 50, 1)\n",
            "Test dataset shape: (5000, 50, 50, 1)\n",
            "Training dataset shape: (48954, 50, 50, 1)\n",
            "Validation dataset shape: (5000, 50, 50, 1)\n",
            "\n",
            "Full training labelset shape: (53954,)\n",
            "Test labelset shape: (5000,)\n",
            "Training labelset shape: (48954,)\n",
            "Validation labelset shape: (5000,)\n"
          ]
        }
      ]
    },
    {
      "cell_type": "markdown",
      "metadata": {
        "id": "_fRfhP34X3y6"
      },
      "source": [
        "#Creation of first model"
      ]
    },
    {
      "cell_type": "code",
      "metadata": {
        "id": "RbJHEKk5QAtz"
      },
      "source": [
        "import tensorflow as tf\n",
        "from tensorflow.keras.models import Sequential\n",
        "from tensorflow.keras.layers import Dense, Dropout, Activation, Flatten, Conv2D, MaxPooling2D\n"
      ],
      "execution_count": 18,
      "outputs": []
    },
    {
      "cell_type": "code",
      "metadata": {
        "id": "hJ-lrfU3X-qY"
      },
      "source": [
        "#Creating our CNN \n",
        "cnn = Sequential()\n",
        "cnn.add(tf.keras.layers.Conv2D(filters=64, kernel_size=7, activation=\"relu\", padding = \"same\", input_shape = X.shape[1:]))\n",
        "cnn.add(tf.keras.layers.MaxPool2D(pool_size=2, strides=2)) #Pooling 2\n",
        "cnn.add(tf.keras.layers.Conv2D(filters=128, kernel_size=3, activation=\"relu\", padding = \"same\")) #Convolution 2\n",
        "cnn.add(tf.keras.layers.MaxPool2D(pool_size=2, strides=2)) #Pooling 2\n",
        "cnn.add(tf.keras.layers.Conv2D(filters=256, kernel_size=3, activation=\"relu\", padding = \"same\")) #Convolution 4\n",
        "cnn.add(tf.keras.layers.MaxPool2D(pool_size=2, strides=2)) #Pooling 3\n",
        "cnn.add(tf.keras.layers.Conv2D(filters=128, kernel_size=3, activation=\"relu\", padding = \"same\")) #Convolution 4\n",
        "cnn.add(tf.keras.layers.MaxPool2D(pool_size=2, strides=2)) #Pooling 3\n",
        "cnn.add(tf.keras.layers.Flatten()) #Flaterning\n",
        "cnn.add(tf.keras.layers.Dense(units=128, activation=\"relu\"))#Full Connection1\n",
        "tf.keras.layers.Dropout(0.5)\n",
        "cnn.add(tf.keras.layers.Dense(units=64, activation=\"relu\"))#Full Connection2\n",
        "tf.keras.layers.Dropout(0.5)\n",
        "cnn.add(tf.keras.layers.Dense(units= 6, activation= \"softmax\"))#Output layer\n",
        "\n",
        "cnn.compile(loss = \"sparse_categorical_crossentropy\",\n",
        "              optimizer=\"adam\",\n",
        "              metrics = [\"accuracy\"])\n",
        "\n"
      ],
      "execution_count": 19,
      "outputs": []
    },
    {
      "cell_type": "code",
      "metadata": {
        "colab": {
          "base_uri": "https://localhost:8080/"
        },
        "id": "ZUV_bEcLlg_3",
        "outputId": "c422ea26-e7e8-4e5d-e116-fe200497970b"
      },
      "source": [
        "cnn.summary()"
      ],
      "execution_count": 20,
      "outputs": [
        {
          "output_type": "stream",
          "name": "stdout",
          "text": [
            "Model: \"sequential\"\n",
            "_________________________________________________________________\n",
            " Layer (type)                Output Shape              Param #   \n",
            "=================================================================\n",
            " conv2d (Conv2D)             (None, 50, 50, 64)        3200      \n",
            "                                                                 \n",
            " max_pooling2d (MaxPooling2D  (None, 25, 25, 64)       0         \n",
            " )                                                               \n",
            "                                                                 \n",
            " conv2d_1 (Conv2D)           (None, 25, 25, 128)       73856     \n",
            "                                                                 \n",
            " max_pooling2d_1 (MaxPooling  (None, 12, 12, 128)      0         \n",
            " 2D)                                                             \n",
            "                                                                 \n",
            " conv2d_2 (Conv2D)           (None, 12, 12, 256)       295168    \n",
            "                                                                 \n",
            " max_pooling2d_2 (MaxPooling  (None, 6, 6, 256)        0         \n",
            " 2D)                                                             \n",
            "                                                                 \n",
            " conv2d_3 (Conv2D)           (None, 6, 6, 128)         295040    \n",
            "                                                                 \n",
            " max_pooling2d_3 (MaxPooling  (None, 3, 3, 128)        0         \n",
            " 2D)                                                             \n",
            "                                                                 \n",
            " flatten (Flatten)           (None, 1152)              0         \n",
            "                                                                 \n",
            " dense (Dense)               (None, 128)               147584    \n",
            "                                                                 \n",
            " dense_1 (Dense)             (None, 64)                8256      \n",
            "                                                                 \n",
            " dense_2 (Dense)             (None, 6)                 390       \n",
            "                                                                 \n",
            "=================================================================\n",
            "Total params: 823,494\n",
            "Trainable params: 823,494\n",
            "Non-trainable params: 0\n",
            "_________________________________________________________________\n"
          ]
        }
      ]
    },
    {
      "cell_type": "code",
      "metadata": {
        "colab": {
          "base_uri": "https://localhost:8080/"
        },
        "id": "8anCRWLHih0X",
        "outputId": "72b68ba0-6d82-43dd-c3f4-5085cf13ce6f"
      },
      "source": [
        "cnn.fit(X_train, y_train, validation_data=(X_valid, y_valid), batch_size=100, epochs=10)\n"
      ],
      "execution_count": 21,
      "outputs": [
        {
          "output_type": "stream",
          "name": "stdout",
          "text": [
            "Epoch 1/10\n",
            "490/490 [==============================] - 33s 48ms/step - loss: 0.0693 - accuracy: 0.9761 - val_loss: 0.0093 - val_accuracy: 0.9976\n",
            "Epoch 2/10\n",
            "490/490 [==============================] - 23s 47ms/step - loss: 0.0097 - accuracy: 0.9976 - val_loss: 0.0056 - val_accuracy: 0.9978\n",
            "Epoch 3/10\n",
            "490/490 [==============================] - 24s 48ms/step - loss: 0.0078 - accuracy: 0.9983 - val_loss: 0.0052 - val_accuracy: 0.9984\n",
            "Epoch 4/10\n",
            "490/490 [==============================] - 22s 46ms/step - loss: 0.0160 - accuracy: 0.9964 - val_loss: 0.0061 - val_accuracy: 0.9982\n",
            "Epoch 5/10\n",
            "490/490 [==============================] - 23s 48ms/step - loss: 0.0013 - accuracy: 0.9996 - val_loss: 0.0108 - val_accuracy: 0.9978\n",
            "Epoch 6/10\n",
            "490/490 [==============================] - 23s 47ms/step - loss: 0.0013 - accuracy: 0.9996 - val_loss: 0.0056 - val_accuracy: 0.9986\n",
            "Epoch 7/10\n",
            "490/490 [==============================] - 23s 47ms/step - loss: 0.0044 - accuracy: 0.9986 - val_loss: 0.0108 - val_accuracy: 0.9974\n",
            "Epoch 8/10\n",
            "490/490 [==============================] - 22s 46ms/step - loss: 0.0063 - accuracy: 0.9987 - val_loss: 0.0054 - val_accuracy: 0.9986\n",
            "Epoch 9/10\n",
            "490/490 [==============================] - 22s 46ms/step - loss: 5.8633e-04 - accuracy: 0.9998 - val_loss: 0.0026 - val_accuracy: 0.9996\n",
            "Epoch 10/10\n",
            "490/490 [==============================] - 23s 46ms/step - loss: 2.6306e-04 - accuracy: 0.9999 - val_loss: 0.0031 - val_accuracy: 0.9990\n"
          ]
        },
        {
          "output_type": "execute_result",
          "data": {
            "text/plain": [
              "<keras.callbacks.History at 0x7f48a01f7d90>"
            ]
          },
          "metadata": {},
          "execution_count": 21
        }
      ]
    },
    {
      "cell_type": "code",
      "metadata": {
        "colab": {
          "base_uri": "https://localhost:8080/"
        },
        "id": "qNF-1nWIj5LJ",
        "outputId": "bf5447ed-9980-49e6-8df6-864d01c57379"
      },
      "source": [
        "score = cnn.evaluate(X_test, y_test)\n",
        "print('Total loss on testing set:', score[0])\n",
        "print('Accuracy on testing set:', score[1])"
      ],
      "execution_count": 22,
      "outputs": [
        {
          "output_type": "stream",
          "name": "stdout",
          "text": [
            "157/157 [==============================] - 2s 11ms/step - loss: 0.0024 - accuracy: 0.9996\n",
            "Total loss on testing set: 0.0024493441451340914\n",
            "Accuracy on testing set: 0.9995999932289124\n"
          ]
        }
      ]
    },
    {
      "cell_type": "code",
      "metadata": {
        "colab": {
          "base_uri": "https://localhost:8080/"
        },
        "id": "aU6KvEiZkawT",
        "outputId": "5e463d2e-4900-48a8-f122-c25c67b9934a"
      },
      "source": [
        "X_new = X_test[:10]\n",
        "\n",
        "#Time for prediction of 1 sample\n",
        "start_time = time.time()\n",
        "cnn.predict(X_new[:-1])\n",
        "end_time = time.time()\n",
        "print(\"Time to predict 1 sample:\", end_time - start_time)\n",
        "\n",
        "#predict on 10 test samples\n",
        "y_pred = np.argmax(cnn.predict(X_new), axis=-1)\n",
        "print(\"Prediction:\", y_pred)\n",
        "y_new = y_test[:10]\n",
        "print(\"Actual    :\", y_new)"
      ],
      "execution_count": 53,
      "outputs": [
        {
          "output_type": "stream",
          "name": "stdout",
          "text": [
            "Time to predict 1 sample: 0.2743244171142578\n",
            "Prediction: [1 1 2 5 3 3 5 1 2 4]\n",
            "Actual    : [1 1 2 5 3 3 5 1 2 4]\n"
          ]
        }
      ]
    },
    {
      "cell_type": "code",
      "source": [
        "n_rows = 2\n",
        "n_cols = 5\n",
        "plt.figure(figsize=(n_cols * 2, n_rows * 2))\n",
        "for row in range(n_rows):\n",
        "    for col in range(n_cols):\n",
        "        index = n_cols * row + col\n",
        "        plt.subplot(n_rows, n_cols, index + 1)\n",
        "        plt.imshow(X_new[index].squeeze(), cmap=\"binary\", interpolation=\"nearest\")\n",
        "        plt.axis('off')\n",
        "        plt.title(CATEGORIES[y_pred[index]], fontsize=12)\n",
        "plt.subplots_adjust(wspace=0.2, hspace=0.5)\n",
        "plt.suptitle(\"Predictions and images predicted on\")\n",
        "plt.show()"
      ],
      "metadata": {
        "id": "voAeB36pjag9",
        "outputId": "fc8ff2e6-f4cc-44fe-b122-62785a2aa84f",
        "colab": {
          "base_uri": "https://localhost:8080/",
          "height": 277
        }
      },
      "execution_count": 34,
      "outputs": [
        {
          "output_type": "display_data",
          "data": {
            "image/png": "[encoded data removed]",
            "text/plain": [
              "<Figure size 720x288 with 10 Axes>"
            ]
          },
          "metadata": {
            "needs_background": "light"
          }
        }
      ]
    },
    {
      "cell_type": "markdown",
      "metadata": {
        "id": "--fl5RXmuYre"
      },
      "source": [
        "#Creation of second model"
      ]
    },
    {
      "cell_type": "markdown",
      "metadata": {
        "id": "vDi300eTjFEN"
      },
      "source": [
        "Data format needs to be slightly altered to work with a feed forward network. X needs to be 2 dimensional and y needs to be one hot encoded."
      ]
    },
    {
      "cell_type": "code",
      "metadata": {
        "id": "WU0z2mp3jNfh"
      },
      "source": [
        "X_train = X_train.squeeze()\n",
        "X_valid = X_valid.squeeze()\n",
        "X_test = X_test.squeeze()"
      ],
      "execution_count": 35,
      "outputs": []
    },
    {
      "cell_type": "code",
      "metadata": {
        "id": "V3SkcjWpjUSE"
      },
      "source": [
        "# y_train\n",
        "shape = (y_train.size, y_train.max()+1)\n",
        "one_hot = np.zeros(shape)\n",
        "rows = np.arange(y_train.size)\n",
        "one_hot[rows, y_train] = 1\n",
        "y_train_one_hot = one_hot\n",
        "\n",
        "#y_valid\n",
        "shape = (y_valid.size, y_valid.max()+1)\n",
        "one_hot = np.zeros(shape)\n",
        "rows = np.arange(y_valid.size)\n",
        "one_hot[rows, y_valid] = 1\n",
        "y_valid_one_hot = one_hot\n",
        "\n",
        "#y_test\n",
        "shape = (y_test.size, y_test.max()+1)\n",
        "one_hot = np.zeros(shape)\n",
        "rows = np.arange(y_test.size)\n",
        "one_hot[rows, y_test] = 1\n",
        "y_test_one_hot = one_hot"
      ],
      "execution_count": 36,
      "outputs": []
    },
    {
      "cell_type": "code",
      "metadata": {
        "colab": {
          "base_uri": "https://localhost:8080/"
        },
        "id": "lIFkOXS0lzpS",
        "outputId": "abff8b09-f7bc-42cd-ad33-d3b4c7681214"
      },
      "source": [
        "print(X_train.shape[1:])"
      ],
      "execution_count": 37,
      "outputs": [
        {
          "output_type": "stream",
          "name": "stdout",
          "text": [
            "(50, 50)\n"
          ]
        }
      ]
    },
    {
      "cell_type": "code",
      "metadata": {
        "id": "_RXws_zNuaxO"
      },
      "source": [
        "model2 = tf.keras.models.Sequential()\n",
        "model2.add(tf.keras.layers.Flatten(input_shape=X.shape[1:]))\n",
        "model2.add(tf.keras.layers.Dense(units=500, activation=\"sigmoid\"))\n",
        "model2.add(tf.keras.layers.Dense(units=200, activation=\"sigmoid\"))\n",
        "model2.add(tf.keras.layers.Dense(units=6, activation=\"softmax\"))"
      ],
      "execution_count": 38,
      "outputs": []
    },
    {
      "cell_type": "code",
      "metadata": {
        "colab": {
          "base_uri": "https://localhost:8080/"
        },
        "id": "qMkARW4vupH0",
        "outputId": "e8d3ada7-b55c-48d8-9eaa-428f176a1087"
      },
      "source": [
        "model2.summary()"
      ],
      "execution_count": 39,
      "outputs": [
        {
          "output_type": "stream",
          "name": "stdout",
          "text": [
            "Model: \"sequential_1\"\n",
            "_________________________________________________________________\n",
            " Layer (type)                Output Shape              Param #   \n",
            "=================================================================\n",
            " flatten_1 (Flatten)         (None, 2500)              0         \n",
            "                                                                 \n",
            " dense_3 (Dense)             (None, 500)               1250500   \n",
            "                                                                 \n",
            " dense_4 (Dense)             (None, 200)               100200    \n",
            "                                                                 \n",
            " dense_5 (Dense)             (None, 6)                 1206      \n",
            "                                                                 \n",
            "=================================================================\n",
            "Total params: 1,351,906\n",
            "Trainable params: 1,351,906\n",
            "Non-trainable params: 0\n",
            "_________________________________________________________________\n"
          ]
        }
      ]
    },
    {
      "cell_type": "code",
      "metadata": {
        "id": "cKIZU1_yup5s"
      },
      "source": [
        "model2.compile(loss = \"categorical_crossentropy\",\n",
        "              optimizer = \"adam\",\n",
        "              metrics=[\"accuracy\"])"
      ],
      "execution_count": 40,
      "outputs": []
    },
    {
      "cell_type": "code",
      "metadata": {
        "colab": {
          "base_uri": "https://localhost:8080/"
        },
        "id": "kbGcYCN3DyiF",
        "outputId": "86fcf813-6f24-4278-e805-04727716821e"
      },
      "source": [
        "model2.fit(X_train, y_train_one_hot, validation_data=(X_valid, y_valid_one_hot), batch_size=100, epochs=25)"
      ],
      "execution_count": 41,
      "outputs": [
        {
          "output_type": "stream",
          "name": "stdout",
          "text": [
            "Epoch 1/25\n",
            "490/490 [==============================] - 4s 7ms/step - loss: 0.1390 - accuracy: 0.9630 - val_loss: 0.0357 - val_accuracy: 0.9916\n",
            "Epoch 2/25\n",
            "490/490 [==============================] - 3s 6ms/step - loss: 0.0263 - accuracy: 0.9943 - val_loss: 0.1136 - val_accuracy: 0.9562\n",
            "Epoch 3/25\n",
            "490/490 [==============================] - 3s 6ms/step - loss: 0.0281 - accuracy: 0.9917 - val_loss: 0.0166 - val_accuracy: 0.9956\n",
            "Epoch 4/25\n",
            "490/490 [==============================] - 3s 6ms/step - loss: 0.0122 - accuracy: 0.9969 - val_loss: 0.0158 - val_accuracy: 0.9952\n",
            "Epoch 5/25\n",
            "490/490 [==============================] - 3s 6ms/step - loss: 0.0141 - accuracy: 0.9958 - val_loss: 0.0129 - val_accuracy: 0.9958\n",
            "Epoch 6/25\n",
            "490/490 [==============================] - 3s 6ms/step - loss: 0.0096 - accuracy: 0.9975 - val_loss: 0.0112 - val_accuracy: 0.9960\n",
            "Epoch 7/25\n",
            "490/490 [==============================] - 3s 6ms/step - loss: 0.0102 - accuracy: 0.9970 - val_loss: 0.0165 - val_accuracy: 0.9940\n",
            "Epoch 8/25\n",
            "490/490 [==============================] - 3s 6ms/step - loss: 0.0100 - accuracy: 0.9968 - val_loss: 0.0108 - val_accuracy: 0.9972\n",
            "Epoch 9/25\n",
            "490/490 [==============================] - 3s 6ms/step - loss: 0.0115 - accuracy: 0.9966 - val_loss: 0.0115 - val_accuracy: 0.9966\n",
            "Epoch 10/25\n",
            "490/490 [==============================] - 3s 6ms/step - loss: 0.0097 - accuracy: 0.9968 - val_loss: 0.0143 - val_accuracy: 0.9966\n",
            "Epoch 11/25\n",
            "490/490 [==============================] - 3s 6ms/step - loss: 0.0058 - accuracy: 0.9983 - val_loss: 0.0138 - val_accuracy: 0.9962\n",
            "Epoch 12/25\n",
            "490/490 [==============================] - 3s 6ms/step - loss: 0.0075 - accuracy: 0.9977 - val_loss: 0.0122 - val_accuracy: 0.9956\n",
            "Epoch 13/25\n",
            "490/490 [==============================] - 3s 6ms/step - loss: 0.0073 - accuracy: 0.9978 - val_loss: 0.0095 - val_accuracy: 0.9970\n",
            "Epoch 14/25\n",
            "490/490 [==============================] - 3s 6ms/step - loss: 0.0060 - accuracy: 0.9979 - val_loss: 0.0126 - val_accuracy: 0.9960\n",
            "Epoch 15/25\n",
            "490/490 [==============================] - 3s 6ms/step - loss: 0.0057 - accuracy: 0.9980 - val_loss: 0.0150 - val_accuracy: 0.9954\n",
            "Epoch 16/25\n",
            "490/490 [==============================] - 3s 6ms/step - loss: 0.0106 - accuracy: 0.9967 - val_loss: 0.0105 - val_accuracy: 0.9976\n",
            "Epoch 17/25\n",
            "490/490 [==============================] - 3s 6ms/step - loss: 0.0087 - accuracy: 0.9972 - val_loss: 0.0162 - val_accuracy: 0.9956\n",
            "Epoch 18/25\n",
            "490/490 [==============================] - 3s 6ms/step - loss: 0.0050 - accuracy: 0.9986 - val_loss: 0.0081 - val_accuracy: 0.9976\n",
            "Epoch 19/25\n",
            "490/490 [==============================] - 3s 6ms/step - loss: 0.0047 - accuracy: 0.9985 - val_loss: 0.0097 - val_accuracy: 0.9972\n",
            "Epoch 20/25\n",
            "490/490 [==============================] - 3s 6ms/step - loss: 0.0053 - accuracy: 0.9982 - val_loss: 0.0201 - val_accuracy: 0.9946\n",
            "Epoch 21/25\n",
            "490/490 [==============================] - 3s 6ms/step - loss: 0.0067 - accuracy: 0.9981 - val_loss: 0.0072 - val_accuracy: 0.9980\n",
            "Epoch 22/25\n",
            "490/490 [==============================] - 3s 6ms/step - loss: 0.0050 - accuracy: 0.9982 - val_loss: 0.0089 - val_accuracy: 0.9980\n",
            "Epoch 23/25\n",
            "490/490 [==============================] - 3s 6ms/step - loss: 0.0037 - accuracy: 0.9990 - val_loss: 0.0150 - val_accuracy: 0.9952\n",
            "Epoch 24/25\n",
            "490/490 [==============================] - 3s 6ms/step - loss: 0.0024 - accuracy: 0.9993 - val_loss: 0.0098 - val_accuracy: 0.9974\n",
            "Epoch 25/25\n",
            "490/490 [==============================] - 3s 6ms/step - loss: 0.0076 - accuracy: 0.9977 - val_loss: 0.0139 - val_accuracy: 0.9968\n"
          ]
        },
        {
          "output_type": "execute_result",
          "data": {
            "text/plain": [
              "<keras.callbacks.History at 0x7f47c135da10>"
            ]
          },
          "metadata": {},
          "execution_count": 41
        }
      ]
    },
    {
      "cell_type": "code",
      "metadata": {
        "colab": {
          "base_uri": "https://localhost:8080/"
        },
        "id": "5Rt4-OtLFW1l",
        "outputId": "1beadccd-8838-48a6-84fb-c971cc575446"
      },
      "source": [
        "score = model2.evaluate(X_test, y_test_one_hot)\n",
        "print('Total loss on testing set:', score[0])\n",
        "print('Accuracy on testing set:', score[1])"
      ],
      "execution_count": 42,
      "outputs": [
        {
          "output_type": "stream",
          "name": "stdout",
          "text": [
            "157/157 [==============================] - 1s 5ms/step - loss: 0.0172 - accuracy: 0.9960\n",
            "Total loss on testing set: 0.01722327247262001\n",
            "Accuracy on testing set: 0.9959999918937683\n"
          ]
        }
      ]
    },
    {
      "cell_type": "code",
      "metadata": {
        "colab": {
          "base_uri": "https://localhost:8080/"
        },
        "id": "iUFuI8lZR9al",
        "outputId": "f962e5d2-6606-485b-d6af-db887e6b16db"
      },
      "source": [
        "import time\n",
        "X_new = X_test[:10]\n",
        "\n",
        "#Time for prediction of 1 sample\n",
        "start_time = time.time()\n",
        "model2.predict(X_new[:-1])\n",
        "end_time = time.time()\n",
        "print(\"Time to predict 1 sample:\", end_time - start_time)\n",
        "\n",
        "#predict on 10 test samples\n",
        "y_pred = np.argmax(model2.predict(X_new), axis=-1)\n",
        "print(\"Prediction:\", y_pred)\n",
        "y_new = np.array([np.argmax(value) for value in y_test_one_hot[:10]])\n",
        "print(\"Actual    :\", y_new)"
      ],
      "execution_count": 52,
      "outputs": [
        {
          "output_type": "stream",
          "name": "stdout",
          "text": [
            "Time to predict 1 sample: 0.050531864166259766\n",
            "Prediction: [1 1 2 5 3 3 5 1 2 4]\n",
            "Actual    : [1 1 2 5 3 3 5 1 2 4]\n"
          ]
        }
      ]
    },
    {
      "cell_type": "code",
      "source": [
        "n_rows = 2\n",
        "n_cols = 5\n",
        "plt.figure(figsize=(n_cols * 2, n_rows * 2))\n",
        "for row in range(n_rows):\n",
        "    for col in range(n_cols):\n",
        "        index = n_cols * row + col\n",
        "        plt.subplot(n_rows, n_cols, index + 1)\n",
        "        plt.imshow(X_new[index].squeeze(), cmap=\"binary\", interpolation=\"nearest\")\n",
        "        plt.axis('off')\n",
        "        plt.title(CATEGORIES[y_pred[index]], fontsize=12)\n",
        "plt.subplots_adjust(wspace=0.2, hspace=0.5)\n",
        "plt.suptitle(\"Predictions and images predicted on\")\n",
        "plt.show()"
      ],
      "metadata": {
        "id": "zdbvFOJhg2hd",
        "outputId": "deb24893-9ec1-4319-aa9b-9bf3f0c4d463",
        "colab": {
          "base_uri": "https://localhost:8080/",
          "height": 277
        }
      },
      "execution_count": 45,
      "outputs": [
        {
          "output_type": "display_data",
          "data": {
            "image/png": "[encoded data removed]",
            "text/plain": [
              "<Figure size 720x288 with 10 Axes>"
            ]
          },
          "metadata": {
            "needs_background": "light"
          }
        }
      ]
    }
  ]
}