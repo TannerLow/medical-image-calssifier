{
  "nbformat": 4,
  "nbformat_minor": 0,
  "metadata": {
    "colab": {
      "name": "ML project test 1.ipynb",
      "provenance": [],
      "collapsed_sections": [],
      "include_colab_link": true
    },
    "kernelspec": {
      "name": "python3",
      "display_name": "Python 3"
    },
    "language_info": {
      "name": "python"
    },
    "accelerator": "GPU"
  },
  "cells": [
    {
      "cell_type": "markdown",
      "metadata": {
        "id": "view-in-github",
        "colab_type": "text"
      },
      "source": [
        "<a href=\"https://colab.research.google.com/github/TannerLow/medical-image-calssifier/blob/main/ML_project.ipynb\" target=\"_parent\"><img src=\"https://colab.research.google.com/assets/colab-badge.svg\" alt=\"Open In Colab\"/></a>"
      ]
    },
    {
      "cell_type": "markdown",
      "metadata": {
        "id": "F67DTwxZMRRK"
      },
      "source": [
        "# Fetching the dataset automatically\n",
        "This does some setup to prepare the system to use kaggle's API and then downloads the dataset using kaggle's API all through code."
      ]
    },
    {
      "cell_type": "code",
      "metadata": {
        "id": "sv8GDNFishig",
        "colab": {
          "base_uri": "https://localhost:8080/"
        },
        "outputId": "e7ec888e-fe38-4540-cc72-1174b4c8bec6"
      },
      "source": [
        "! mkdir .kaggle\n",
        "! mv .kaggle /root/.kaggle\n",
        "file = open('/root/.kaggle/kaggle.json', 'w')\n",
        "file.write('{\"username\":\"name9006\",\"key\":\"59f18906073eb34224a05e9c03ad8607\"}')\n",
        "file.close()\n",
        "! kaggle datasets download -d andrewmvd/medical-mnist "
      ],
      "execution_count": 1,
      "outputs": [
        {
          "output_type": "stream",
          "name": "stdout",
          "text": [
            "Warning: Your Kaggle API key is readable by other users on this system! To fix this, you can run 'chmod 600 /root/.kaggle/kaggle.json'\n",
            "Downloading medical-mnist.zip to /content\n",
            " 96% 81.0M/84.8M [00:02<00:00, 34.8MB/s]\n",
            "100% 84.8M/84.8M [00:02<00:00, 36.8MB/s]\n"
          ]
        }
      ]
    },
    {
      "cell_type": "markdown",
      "metadata": {
        "id": "xW6dBGCgMeUQ"
      },
      "source": [
        "# Data preprocessing"
      ]
    },
    {
      "cell_type": "code",
      "metadata": {
        "id": "T3xJpds3Lu-f"
      },
      "source": [
        "!unzip \"medical-mnist.zip\" -d \"medical-mnist\""
      ],
      "execution_count": null,
      "outputs": []
    },
    {
      "cell_type": "code",
      "metadata": {
        "id": "Vc55d_b7PNXc",
        "colab": {
          "base_uri": "https://localhost:8080/",
          "height": 286
        },
        "outputId": "2af849c8-8532-4b57-d703-980a9f98adc6"
      },
      "source": [
        "import numpy as np\n",
        "import matplotlib as mpl\n",
        "import matplotlib.pyplot as plt\n",
        "import os\n",
        "import cv2\n",
        "\n",
        "DATADIR = \"/content/medical-mnist\"\n",
        "CATEGORIES = [\"AbdomenCT\",\"BreastMRI\",\"CXR\",\"ChestCT\",\"Hand\",\"HeadCT\"]\n",
        "\n",
        "for category in CATEGORIES:\n",
        "  path = os.path.join(DATADIR, category) #Gets us into the path of the different categories\n",
        "  for img in os.listdir(path):\n",
        "    print(os.path.join(path, img))\n",
        "    img_array = cv2.imread(os.path.join(path,img), cv2.IMREAD_GRAYSCALE)\n",
        "    plt.imshow(img_array, cmap=\"gray\")\n",
        "    plt.show()\n",
        "    break # break to stop after displaying one image\n",
        "  break"
      ],
      "execution_count": 176,
      "outputs": [
        {
          "output_type": "stream",
          "name": "stdout",
          "text": [
            "/content/medical-mnist/AbdomenCT/004764.jpeg\n"
          ]
        },
        {
          "output_type": "display_data",
          "data": {
            "image/png": "[encoded data removed]",
            "text/plain": [
              "<Figure size 432x288 with 1 Axes>"
            ]
          },
          "metadata": {
            "needs_background": "light"
          }
        }
      ]
    },
    {
      "cell_type": "code",
      "metadata": {
        "colab": {
          "base_uri": "https://localhost:8080/"
        },
        "id": "oGgjtBqqScQ4",
        "outputId": "d4029ad9-d259-409c-b32a-172b8811a712"
      },
      "source": [
        "print(img_array.shape)"
      ],
      "execution_count": 177,
      "outputs": [
        {
          "output_type": "stream",
          "name": "stdout",
          "text": [
            "(64, 64)\n"
          ]
        }
      ]
    },
    {
      "cell_type": "code",
      "metadata": {
        "colab": {
          "base_uri": "https://localhost:8080/",
          "height": 267
        },
        "id": "ia0dXUYGTk-J",
        "outputId": "71ae934f-efa6-4c58-870a-3cc2fe40caf8"
      },
      "source": [
        "IMG_SIZE = 50\n",
        "\n",
        "new_array = cv2.resize(img_array, (IMG_SIZE,IMG_SIZE))\n",
        "plt.imshow(new_array, cmap = \"gray\")\n",
        "plt.show()"
      ],
      "execution_count": 178,
      "outputs": [
        {
          "output_type": "display_data",
          "data": {
            "image/png": "[encoded data removed]",
            "text/plain": [
              "<Figure size 432x288 with 1 Axes>"
            ]
          },
          "metadata": {
            "needs_background": "light"
          }
        }
      ]
    },
    {
      "cell_type": "markdown",
      "metadata": {
        "id": "IcScnI3d9rMw"
      },
      "source": [
        "Store image data with label into an array"
      ]
    },
    {
      "cell_type": "code",
      "metadata": {
        "id": "jnRaFpTvT-ox"
      },
      "source": [
        "def create_training_data():\n",
        "  training_data = []\n",
        "  counts = {0:0, 1:0, 2:0, 3:0, 4:0, 5:0}\n",
        "  for category in CATEGORIES:\n",
        "    path = os.path.join(DATADIR, category) #Gets us into the path of the different categories\n",
        "    class_num = CATEGORIES.index(category)\n",
        "    for img in os.listdir(path):\n",
        "      try:\n",
        "        img_array = cv2.imread(os.path.join(path,img), cv2.IMREAD_GRAYSCALE)\n",
        "        new_array = cv2.resize(img_array, (IMG_SIZE,IMG_SIZE))\n",
        "        training_data.append([new_array, class_num])\n",
        "        counts[class_num] += 1\n",
        "      except Exception as e:\n",
        "        pass\n",
        "  print(counts)\n",
        "  return training_data"
      ],
      "execution_count": 179,
      "outputs": []
    },
    {
      "cell_type": "code",
      "metadata": {
        "colab": {
          "base_uri": "https://localhost:8080/"
        },
        "id": "5RdonoKO-IBG",
        "outputId": "3157bb48-5de3-47d6-bf78-b806532f4a8f"
      },
      "source": [
        "training_data = create_training_data()"
      ],
      "execution_count": 180,
      "outputs": [
        {
          "output_type": "stream",
          "name": "stdout",
          "text": [
            "{0: 10000, 1: 8954, 2: 10000, 3: 10000, 4: 10000, 5: 10000}\n"
          ]
        }
      ]
    },
    {
      "cell_type": "code",
      "metadata": {
        "colab": {
          "base_uri": "https://localhost:8080/"
        },
        "id": "r3FbSSkqUBqR",
        "outputId": "cb7880e4-151c-4cb4-ce4b-191431cd1d68"
      },
      "source": [
        "#seeing how many images are in the training data currently (All images from the set currently)\n",
        "print(len(training_data))"
      ],
      "execution_count": 181,
      "outputs": [
        {
          "output_type": "stream",
          "name": "stdout",
          "text": [
            "58954\n"
          ]
        }
      ]
    },
    {
      "cell_type": "code",
      "metadata": {
        "id": "5RY4uX_7VBw5"
      },
      "source": [
        "#Shuffle the data so that is randomized and can learn better\n",
        "np.random.seed(42)\n",
        "np.random.shuffle(training_data)"
      ],
      "execution_count": 182,
      "outputs": []
    },
    {
      "cell_type": "code",
      "metadata": {
        "colab": {
          "base_uri": "https://localhost:8080/"
        },
        "id": "oV-ZIbkOV0oh",
        "outputId": "a00ea8c2-609d-4e6f-ea1b-9c7d2131dd1c"
      },
      "source": [
        "for sample in training_data[:10]:\n",
        "  print(sample[1])"
      ],
      "execution_count": 183,
      "outputs": [
        {
          "output_type": "stream",
          "name": "stdout",
          "text": [
            "0\n",
            "0\n",
            "4\n",
            "3\n",
            "2\n",
            "0\n",
            "0\n",
            "4\n",
            "0\n",
            "1\n"
          ]
        }
      ]
    },
    {
      "cell_type": "code",
      "metadata": {
        "id": "D0BMr6tNV8X5"
      },
      "source": [
        "X = []\n",
        "y = []"
      ],
      "execution_count": 184,
      "outputs": []
    },
    {
      "cell_type": "code",
      "metadata": {
        "id": "iNn5SltDWISx"
      },
      "source": [
        "for features, label in training_data:\n",
        "  X.append(features)\n",
        "  y.append(label)\n",
        "\n",
        "X = np.array(X).reshape(-1, IMG_SIZE, IMG_SIZE, 1)"
      ],
      "execution_count": 185,
      "outputs": []
    },
    {
      "cell_type": "code",
      "metadata": {
        "id": "JqWm8A_BWp-w"
      },
      "source": [
        "import pickle \n",
        "\n",
        "pickle_out = open(\"X.pickle\", \"wb\")\n",
        "pickle.dump(X, pickle_out)\n",
        "pickle_out.close()\n",
        "\n",
        "pickle_out = open(\"y.pickle\", \"wb\")\n",
        "pickle.dump(y, pickle_out)\n",
        "pickle_out.close()"
      ],
      "execution_count": 186,
      "outputs": []
    },
    {
      "cell_type": "code",
      "metadata": {
        "id": "pbK3LUTlXRuo"
      },
      "source": [
        "pickle_in = open(\"X.pickle\",\"rb\")\n",
        "X = pickle.load(pickle_in)"
      ],
      "execution_count": 187,
      "outputs": []
    },
    {
      "cell_type": "code",
      "metadata": {
        "id": "EGNKk2Nq6FRj"
      },
      "source": [
        "X[1]"
      ],
      "execution_count": null,
      "outputs": []
    },
    {
      "cell_type": "markdown",
      "metadata": {
        "id": "EOKMRFsmLmQH"
      },
      "source": [
        "Load the data into arrays"
      ]
    },
    {
      "cell_type": "code",
      "metadata": {
        "id": "JWqtag61FtEl"
      },
      "source": [
        "import pickle\n",
        "\n",
        "X = pickle.load(open(\"X.pickle\", \"rb\"))\n",
        "y = pickle.load(open(\"y.pickle\", \"rb\"))\n",
        "\n",
        "X = np.array(X)\n",
        "y = np.array(y)"
      ],
      "execution_count": 189,
      "outputs": []
    },
    {
      "cell_type": "markdown",
      "metadata": {
        "id": "JRWx38dwLp9k"
      },
      "source": [
        "Unpack the data into training, validation, and test sets."
      ]
    },
    {
      "cell_type": "code",
      "metadata": {
        "colab": {
          "base_uri": "https://localhost:8080/"
        },
        "id": "ob4WFmyHMm_U",
        "outputId": "fddcf75a-d3f8-416e-99d0-090e413f4b01"
      },
      "source": [
        "X = X/255.0\n",
        "\n",
        "X_train_full, X_test = X[:-5000], X[-5000:]\n",
        "X_train, X_valid = X_train_full[:-5000], X_train_full[-5000:]\n",
        "\n",
        "y_train_full, y_test = y[:-5000], y[-5000:]\n",
        "y_train, y_valid = y_train_full[:-5000], y_train_full[-5000:]\n",
        "\n",
        "print(\"Full training dataset shape:\", X_train_full.shape)\n",
        "print(\"Test dataset shape:\", X_test.shape)\n",
        "print(\"Training dataset shape:\", X_train.shape)\n",
        "print(\"Validation dataset shape:\", X_valid.shape)\n",
        "print()\n",
        "\n",
        "print(\"Full training labelset shape:\", y_train_full.shape)\n",
        "print(\"Test labelset shape:\", y_test.shape)\n",
        "print(\"Training labelset shape:\", y_train.shape)\n",
        "print(\"Validation labelset shape:\", y_valid.shape)\n"
      ],
      "execution_count": 190,
      "outputs": [
        {
          "output_type": "stream",
          "name": "stdout",
          "text": [
            "[[[0.39607843]\n",
            "  [0.39607843]\n",
            "  [0.39607843]\n",
            "  ...\n",
            "  [0.39607843]\n",
            "  [0.39607843]\n",
            "  [0.39607843]]\n",
            "\n",
            " [[0.39607843]\n",
            "  [0.39607843]\n",
            "  [0.39607843]\n",
            "  ...\n",
            "  [0.39607843]\n",
            "  [0.39607843]\n",
            "  [0.39607843]]\n",
            "\n",
            " [[0.39607843]\n",
            "  [0.39607843]\n",
            "  [0.39607843]\n",
            "  ...\n",
            "  [0.39607843]\n",
            "  [0.39607843]\n",
            "  [0.39607843]]\n",
            "\n",
            " ...\n",
            "\n",
            " [[0.40784314]\n",
            "  [0.40392157]\n",
            "  [0.4       ]\n",
            "  ...\n",
            "  [0.38039216]\n",
            "  [0.37254902]\n",
            "  [0.4       ]]\n",
            "\n",
            " [[0.39215686]\n",
            "  [0.39215686]\n",
            "  [0.39215686]\n",
            "  ...\n",
            "  [0.37647059]\n",
            "  [0.40392157]\n",
            "  [0.39215686]]\n",
            "\n",
            " [[0.4       ]\n",
            "  [0.4       ]\n",
            "  [0.39215686]\n",
            "  ...\n",
            "  [0.39215686]\n",
            "  [0.4       ]\n",
            "  [0.38039216]]]\n",
            "Full training dataset shape: (53954, 50, 50, 1)\n",
            "Test dataset shape: (5000, 50, 50, 1)\n",
            "Training dataset shape: (48954, 50, 50, 1)\n",
            "Validation dataset shape: (5000, 50, 50, 1)\n",
            "\n",
            "Full training labelset shape: (53954,)\n",
            "Test labelset shape: (5000,)\n",
            "Training labelset shape: (48954,)\n",
            "Validation labelset shape: (5000,)\n"
          ]
        }
      ]
    },
    {
      "cell_type": "markdown",
      "metadata": {
        "id": "_fRfhP34X3y6"
      },
      "source": [
        "#Creation of first model"
      ]
    },
    {
      "cell_type": "code",
      "metadata": {
        "id": "RbJHEKk5QAtz"
      },
      "source": [
        "import tensorflow as tf\n",
        "from tensorflow.keras.models import Sequential\n",
        "from tensorflow.keras.layers import Dense, Dropout, Activation, Flatten, Conv2D, MaxPooling2D\n"
      ],
      "execution_count": 213,
      "outputs": []
    },
    {
      "cell_type": "code",
      "metadata": {
        "id": "hJ-lrfU3X-qY"
      },
      "source": [
        "#Creating our CNN \n",
        "cnn = Sequential()\n",
        "cnn.add(tf.keras.layers.Conv2D(filters=64, kernel_size=7, activation=\"relu\", padding = \"same\", input_shape = X.shape[1:]))\n",
        "cnn.add(MaxPooling2D(pool_size = (2,2)))\n",
        "cnn.add(tf.keras.layers.MaxPool2D(pool_size=2, strides=2)) #Pooling 1\n",
        "cnn.add(tf.keras.layers.Conv2D(filters=128, kernel_size=3, activation=\"relu\", padding = \"same\")) #Convolution 2\n",
        "cnn.add(tf.keras.layers.Conv2D(filters=128, kernel_size=3, activation=\"relu\", padding = \"same\")) #Convolution 3\n",
        "cnn.add(tf.keras.layers.MaxPool2D(pool_size=2, strides=2)) #Pooling 2\n",
        "cnn.add(tf.keras.layers.Conv2D(filters=256, kernel_size=3, activation=\"relu\", padding = \"same\")) #Convolution 4\n",
        "cnn.add(tf.keras.layers.Conv2D(filters=256, kernel_size=3, activation=\"relu\", padding = \"same\")) #Convolution 5\n",
        "cnn.add(tf.keras.layers.MaxPool2D(pool_size=2, strides=2)) #Pooling 3\n",
        "cnn.add(tf.keras.layers.Flatten()) #Flaterning\n",
        "cnn.add(tf.keras.layers.Dense(units=128, activation=\"relu\"))#Full Connection1\n",
        "tf.keras.layers.Dropout(0.5)\n",
        "cnn.add(tf.keras.layers.Dense(units=64, activation=\"relu\"))#Full Connection2\n",
        "tf.keras.layers.Dropout(0.5)\n",
        "cnn.add(tf.keras.layers.Dense(units= 6, activation= \"softmax\"))#Output layer\n",
        "cnn.add(Activation(\"sigmoid\")) #Could be changed to use sigmoid\n",
        "\n",
        "cnn.compile(loss = \"sparse_categorical_crossentropy\",\n",
        "              optimizer=\"adam\",\n",
        "              metrics = [\"accuracy\"])\n",
        "\n"
      ],
      "execution_count": 214,
      "outputs": []
    },
    {
      "cell_type": "code",
      "metadata": {
        "colab": {
          "base_uri": "https://localhost:8080/"
        },
        "id": "ZUV_bEcLlg_3",
        "outputId": "706139c4-e86f-4123-b3f3-1947aed91dc8"
      },
      "source": [
        "cnn.summary()"
      ],
      "execution_count": 215,
      "outputs": [
        {
          "output_type": "stream",
          "name": "stdout",
          "text": [
            "Model: \"sequential_12\"\n",
            "_________________________________________________________________\n",
            " Layer (type)                Output Shape              Param #   \n",
            "=================================================================\n",
            " conv2d_28 (Conv2D)          (None, 50, 50, 64)        3200      \n",
            "                                                                 \n",
            " max_pooling2d_22 (MaxPoolin  (None, 25, 25, 64)       0         \n",
            " g2D)                                                            \n",
            "                                                                 \n",
            " max_pooling2d_23 (MaxPoolin  (None, 12, 12, 64)       0         \n",
            " g2D)                                                            \n",
            "                                                                 \n",
            " conv2d_29 (Conv2D)          (None, 12, 12, 128)       73856     \n",
            "                                                                 \n",
            " conv2d_30 (Conv2D)          (None, 12, 12, 128)       147584    \n",
            "                                                                 \n",
            " max_pooling2d_24 (MaxPoolin  (None, 6, 6, 128)        0         \n",
            " g2D)                                                            \n",
            "                                                                 \n",
            " conv2d_31 (Conv2D)          (None, 6, 6, 256)         295168    \n",
            "                                                                 \n",
            " conv2d_32 (Conv2D)          (None, 6, 6, 256)         590080    \n",
            "                                                                 \n",
            " max_pooling2d_25 (MaxPoolin  (None, 3, 3, 256)        0         \n",
            " g2D)                                                            \n",
            "                                                                 \n",
            " flatten_11 (Flatten)        (None, 2304)              0         \n",
            "                                                                 \n",
            " dense_32 (Dense)            (None, 128)               295040    \n",
            "                                                                 \n",
            " dense_33 (Dense)            (None, 64)                8256      \n",
            "                                                                 \n",
            " dense_34 (Dense)            (None, 6)                 390       \n",
            "                                                                 \n",
            " activation_8 (Activation)   (None, 6)                 0         \n",
            "                                                                 \n",
            "=================================================================\n",
            "Total params: 1,413,574\n",
            "Trainable params: 1,413,574\n",
            "Non-trainable params: 0\n",
            "_________________________________________________________________\n"
          ]
        }
      ]
    },
    {
      "cell_type": "code",
      "metadata": {
        "colab": {
          "base_uri": "https://localhost:8080/"
        },
        "id": "8anCRWLHih0X",
        "outputId": "6ab305b6-be78-4c98-c3c3-c627d37028fc"
      },
      "source": [
        "cnn.fit(X_train, y_train, validation_data=(X_valid, y_valid), batch_size=100, epochs=1)\n"
      ],
      "execution_count": 216,
      "outputs": [
        {
          "output_type": "stream",
          "name": "stdout",
          "text": [
            "490/490 [==============================] - 19s 37ms/step - loss: 1.1144 - accuracy: 0.9284 - val_loss: 1.0735 - val_accuracy: 0.9698\n"
          ]
        },
        {
          "output_type": "execute_result",
          "data": {
            "text/plain": [
              "<keras.callbacks.History at 0x7f480c1d1810>"
            ]
          },
          "metadata": {},
          "execution_count": 216
        }
      ]
    },
    {
      "cell_type": "code",
      "metadata": {
        "colab": {
          "base_uri": "https://localhost:8080/"
        },
        "id": "qNF-1nWIj5LJ",
        "outputId": "efaa7f8c-69fd-44fc-dc3c-5b65af650b7b"
      },
      "source": [
        "score = cnn.evaluate(X_test, y_test)\n",
        "print('Total loss on testing set:', score[0])\n",
        "print('Accuracy on testing set:', score[1])"
      ],
      "execution_count": 217,
      "outputs": [
        {
          "output_type": "stream",
          "name": "stdout",
          "text": [
            "157/157 [==============================] - 2s 9ms/step - loss: 1.0695 - accuracy: 0.9740\n",
            "Total loss on testing set: 1.0694960355758667\n",
            "Accuracy on testing set: 0.9739999771118164\n"
          ]
        }
      ]
    },
    {
      "cell_type": "code",
      "metadata": {
        "colab": {
          "base_uri": "https://localhost:8080/"
        },
        "id": "aU6KvEiZkawT",
        "outputId": "cf169593-41b8-4534-814e-0b4718c949de"
      },
      "source": [
        "X_new = X_test[:10]\n",
        "y_pred = np.argmax(cnn.predict(X_new), axis=-1)\n",
        "print(\"Prediction:\", y_pred)\n",
        "y_new = y_test[:10]\n",
        "print(\"Actual:\", y_new)"
      ],
      "execution_count": 218,
      "outputs": [
        {
          "output_type": "stream",
          "name": "stdout",
          "text": [
            "Prediction: [1 1 2 5 3 3 5 1 2 4]\n",
            "Actual: [1 1 2 5 3 3 5 1 2 4]\n"
          ]
        }
      ]
    },
    {
      "cell_type": "markdown",
      "metadata": {
        "id": "--fl5RXmuYre"
      },
      "source": [
        "#Creation of second model"
      ]
    },
    {
      "cell_type": "code",
      "metadata": {
        "id": "WU0z2mp3jNfh"
      },
      "source": [
        "X_train = X_train.squeeze()\n",
        "X_valid = X_valid.squeeze()\n",
        "X_test = X_test.squeeze()"
      ],
      "execution_count": 220,
      "outputs": []
    },
    {
      "cell_type": "code",
      "metadata": {
        "colab": {
          "base_uri": "https://localhost:8080/"
        },
        "id": "lIFkOXS0lzpS",
        "outputId": "eaa51886-5893-4fc1-e6f4-77d93daef6c8"
      },
      "source": [
        "print(X_train.shape[1:])"
      ],
      "execution_count": 222,
      "outputs": [
        {
          "output_type": "stream",
          "name": "stdout",
          "text": [
            "(50, 50)\n"
          ]
        }
      ]
    },
    {
      "cell_type": "code",
      "metadata": {
        "id": "_RXws_zNuaxO"
      },
      "source": [
        "model2 = tf.keras.models.Sequential()\n",
        "model2.add(tf.keras.layers.Flatten(input_shape=X.shape[1:]))\n",
        "model2.add(tf.keras.layers.Dense(units=500, activation=\"relu\"))\n",
        "model2.add(tf.keras.layers.Dense(units=200, activation=\"relu\"))\n",
        "model2.add(tf.keras.layers.Dense(units=6, activation=\"softmax\"))"
      ],
      "execution_count": 223,
      "outputs": []
    },
    {
      "cell_type": "code",
      "metadata": {
        "colab": {
          "base_uri": "https://localhost:8080/"
        },
        "id": "qMkARW4vupH0",
        "outputId": "8709a003-3d1c-4a26-db88-f501f81981a1"
      },
      "source": [
        "model2.summary()"
      ],
      "execution_count": 224,
      "outputs": [
        {
          "output_type": "stream",
          "name": "stdout",
          "text": [
            "Model: \"sequential_13\"\n",
            "_________________________________________________________________\n",
            " Layer (type)                Output Shape              Param #   \n",
            "=================================================================\n",
            " flatten_12 (Flatten)        (None, 2500)              0         \n",
            "                                                                 \n",
            " dense_35 (Dense)            (None, 500)               1250500   \n",
            "                                                                 \n",
            " dense_36 (Dense)            (None, 200)               100200    \n",
            "                                                                 \n",
            " dense_37 (Dense)            (None, 6)                 1206      \n",
            "                                                                 \n",
            "=================================================================\n",
            "Total params: 1,351,906\n",
            "Trainable params: 1,351,906\n",
            "Non-trainable params: 0\n",
            "_________________________________________________________________\n"
          ]
        }
      ]
    },
    {
      "cell_type": "code",
      "metadata": {
        "id": "cKIZU1_yup5s"
      },
      "source": [
        "model2.compile(loss = \"sparse_categorical_crossentropy\",\n",
        "              optimizer = \"adam\",\n",
        "              metrics=[\"accuracy\"])"
      ],
      "execution_count": 225,
      "outputs": []
    },
    {
      "cell_type": "code",
      "metadata": {
        "colab": {
          "base_uri": "https://localhost:8080/"
        },
        "id": "kbGcYCN3DyiF",
        "outputId": "3d0af167-0dd5-4310-fe5e-f0a1591feaf9"
      },
      "source": [
        "model2.fit(X_train, y_train, validation_data=(X_valid, y_valid), batch_size=100, epochs=5)"
      ],
      "execution_count": 226,
      "outputs": [
        {
          "output_type": "stream",
          "name": "stdout",
          "text": [
            "Epoch 1/5\n",
            "490/490 [==============================] - 3s 6ms/step - loss: 0.1279 - accuracy: 0.9550 - val_loss: 0.0319 - val_accuracy: 0.9894\n",
            "Epoch 2/5\n",
            "490/490 [==============================] - 3s 5ms/step - loss: 0.0422 - accuracy: 0.9862 - val_loss: 0.1418 - val_accuracy: 0.9418\n",
            "Epoch 3/5\n",
            "490/490 [==============================] - 3s 5ms/step - loss: 0.0206 - accuracy: 0.9942 - val_loss: 0.0136 - val_accuracy: 0.9964\n",
            "Epoch 4/5\n",
            "490/490 [==============================] - 3s 5ms/step - loss: 0.0257 - accuracy: 0.9925 - val_loss: 0.0202 - val_accuracy: 0.9942\n",
            "Epoch 5/5\n",
            "490/490 [==============================] - 3s 5ms/step - loss: 0.0162 - accuracy: 0.9949 - val_loss: 0.0301 - val_accuracy: 0.9890\n"
          ]
        },
        {
          "output_type": "execute_result",
          "data": {
            "text/plain": [
              "<keras.callbacks.History at 0x7f48f011b9d0>"
            ]
          },
          "metadata": {},
          "execution_count": 226
        }
      ]
    },
    {
      "cell_type": "code",
      "metadata": {
        "colab": {
          "base_uri": "https://localhost:8080/"
        },
        "id": "5Rt4-OtLFW1l",
        "outputId": "10ff6b63-e72a-4507-8fb1-17c93f0b0c0a"
      },
      "source": [
        "score = model2.evaluate(X_test, y_test)\n",
        "print('Total loss on testing set:', score[0])\n",
        "print('Accuracy on testing set:', score[1])"
      ],
      "execution_count": 227,
      "outputs": [
        {
          "output_type": "stream",
          "name": "stdout",
          "text": [
            "157/157 [==============================] - 1s 4ms/step - loss: 0.0269 - accuracy: 0.9898\n",
            "Total loss on testing set: 0.02691151201725006\n",
            "Accuracy on testing set: 0.989799976348877\n"
          ]
        }
      ]
    },
    {
      "cell_type": "code",
      "metadata": {
        "colab": {
          "base_uri": "https://localhost:8080/",
          "height": 282
        },
        "id": "iUFuI8lZR9al",
        "outputId": "4f2b72d7-fdce-47ac-e12e-73500461f1e1"
      },
      "source": [
        "X_new = X_test[:10]\n",
        "y_pred = np.argmax(model2.predict(X_new), axis=-1)\n",
        "print(\"Prediction:\", y_pred)\n",
        "y_new = y_test[:10]\n",
        "print(\"Actual:\", y_new)\n",
        "\n",
        "plt.imshow(X_new[-1], cmap=\"binary\")\n",
        "plt.axis('off')\n",
        "plt.show()"
      ],
      "execution_count": 231,
      "outputs": [
        {
          "output_type": "stream",
          "name": "stdout",
          "text": [
            "Prediction: [1 1 2 5 3 3 5 1 2 4]\n",
            "Actual: [1 1 2 5 3 3 5 1 2 4]\n"
          ]
        },
        {
          "output_type": "display_data",
          "data": {
            "image/png": "[encoded data removed]",
            "text/plain": [
              "<Figure size 432x288 with 1 Axes>"
            ]
          },
          "metadata": {
            "needs_background": "light"
          }
        }
      ]
    }
  ]
}