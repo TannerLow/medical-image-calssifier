{
  "nbformat": 4,
  "nbformat_minor": 0,
  "metadata": {
    "colab": {
      "name": "ML project test 1.ipynb",
      "provenance": [],
      "collapsed_sections": [],
      "include_colab_link": true
    },
    "kernelspec": {
      "name": "python3",
      "display_name": "Python 3"
    },
    "language_info": {
      "name": "python"
    },
    "accelerator": "GPU"
  },
  "cells": [
    {
      "cell_type": "markdown",
      "metadata": {
        "id": "view-in-github",
        "colab_type": "text"
      },
      "source": [
        "<a href=\"https://colab.research.google.com/github/TannerLow/medical-image-calssifier/blob/main/ML_project_5.ipynb\" target=\"_parent\"><img src=\"https://colab.research.google.com/assets/colab-badge.svg\" alt=\"Open In Colab\"/></a>"
      ]
    },
    {
      "cell_type": "markdown",
      "metadata": {
        "id": "F67DTwxZMRRK"
      },
      "source": [
        "# Fetching the dataset automatically\n",
        "This does some setup to prepare the system to use kaggle's API and then downloads the dataset using kaggle's API all through code."
      ]
    },
    {
      "cell_type": "code",
      "metadata": {
        "id": "sv8GDNFishig",
        "colab": {
          "base_uri": "https://localhost:8080/"
        },
        "outputId": "3dab6ea4-08b6-4be4-d5e1-f9ca0ae25f83"
      },
      "source": [
        "! mkdir .kaggle\n",
        "! mv .kaggle /root/.kaggle\n",
        "file = open('/root/.kaggle/kaggle.json', 'w')\n",
        "file.write('{\"username\":\"name9006\",\"key\":\"59f18906073eb34224a05e9c03ad8607\"}')\n",
        "file.close()\n",
        "! kaggle datasets download -d andrewmvd/medical-mnist "
      ],
      "execution_count": 1,
      "outputs": [
        {
          "output_type": "stream",
          "name": "stdout",
          "text": [
            "Warning: Your Kaggle API key is readable by other users on this system! To fix this, you can run 'chmod 600 /root/.kaggle/kaggle.json'\n",
            "Downloading medical-mnist.zip to /content\n",
            " 97% 82.0M/84.8M [00:00<00:00, 80.9MB/s]\n",
            "100% 84.8M/84.8M [00:01<00:00, 87.3MB/s]\n"
          ]
        }
      ]
    },
    {
      "cell_type": "markdown",
      "metadata": {
        "id": "xW6dBGCgMeUQ"
      },
      "source": [
        "# Data preprocessing"
      ]
    },
    {
      "cell_type": "code",
      "metadata": {
        "id": "T3xJpds3Lu-f"
      },
      "source": [
        "!unzip \"medical-mnist.zip\" -d \"medical-mnist\""
      ],
      "execution_count": null,
      "outputs": []
    },
    {
      "cell_type": "code",
      "metadata": {
        "id": "Vc55d_b7PNXc",
        "colab": {
          "base_uri": "https://localhost:8080/",
          "height": 286
        },
        "outputId": "fa831c55-7765-4464-e517-91a5411386a3"
      },
      "source": [
        "import numpy as np\n",
        "import matplotlib as mpl\n",
        "import matplotlib.pyplot as plt\n",
        "import os\n",
        "import cv2\n",
        "\n",
        "DATADIR = \"/content/medical-mnist\"\n",
        "CATEGORIES = [\"AbdomenCT\",\"BreastMRI\",\"CXR\",\"ChestCT\",\"Hand\",\"HeadCT\"]\n",
        "\n",
        "for category in CATEGORIES:\n",
        "  path = os.path.join(DATADIR, category) #Gets us into the path of the different categories\n",
        "  for img in os.listdir(path):\n",
        "    print(os.path.join(path, img))\n",
        "    img_array = cv2.imread(os.path.join(path,img), cv2.IMREAD_GRAYSCALE)\n",
        "    plt.imshow(img_array, cmap=\"gray\")\n",
        "    plt.show()\n",
        "    break # break to stop after displaying one image\n",
        "  break"
      ],
      "execution_count": 24,
      "outputs": [
        {
          "output_type": "stream",
          "name": "stdout",
          "text": [
            "/content/medical-mnist/AbdomenCT/003916.jpeg\n"
          ]
        },
        {
          "output_type": "display_data",
          "data": {
            "image/png": "[encoded data removed]",
            "text/plain": [
              "<Figure size 432x288 with 1 Axes>"
            ]
          },
          "metadata": {
            "needs_background": "light"
          }
        }
      ]
    },
    {
      "cell_type": "code",
      "metadata": {
        "colab": {
          "base_uri": "https://localhost:8080/"
        },
        "id": "oGgjtBqqScQ4",
        "outputId": "04690b7f-5d53-4ef4-e718-e5ba9d1ecb64"
      },
      "source": [
        "print(img_array.shape)"
      ],
      "execution_count": null,
      "outputs": [
        {
          "output_type": "stream",
          "name": "stdout",
          "text": [
            "(64, 64)\n"
          ]
        }
      ]
    },
    {
      "cell_type": "code",
      "metadata": {
        "colab": {
          "base_uri": "https://localhost:8080/",
          "height": 267
        },
        "id": "ia0dXUYGTk-J",
        "outputId": "4adf8bd5-7d31-4e4b-bebb-6f904a4d2fa2"
      },
      "source": [
        "IMG_SIZE = 50\n",
        "\n",
        "new_array = cv2.resize(img_array, (IMG_SIZE,IMG_SIZE))\n",
        "plt.imshow(new_array, cmap = \"gray\")\n",
        "plt.show()"
      ],
      "execution_count": 25,
      "outputs": [
        {
          "output_type": "display_data",
          "data": {
            "image/png": "[encoded data removed]",
            "text/plain": [
              "<Figure size 432x288 with 1 Axes>"
            ]
          },
          "metadata": {
            "needs_background": "light"
          }
        }
      ]
    },
    {
      "cell_type": "markdown",
      "metadata": {
        "id": "IcScnI3d9rMw"
      },
      "source": [
        "Store image data with label into an array"
      ]
    },
    {
      "cell_type": "code",
      "metadata": {
        "id": "jnRaFpTvT-ox"
      },
      "source": [
        "def create_training_data():\n",
        "  training_data = []\n",
        "  counts = {0:0, 1:0, 2:0, 3:0, 4:0, 5:0}\n",
        "  for category in CATEGORIES:\n",
        "    path = os.path.join(DATADIR, category) #Gets us into the path of the different categories\n",
        "    class_num = CATEGORIES.index(category)\n",
        "    for img in os.listdir(path):\n",
        "      try:\n",
        "        img_array = cv2.imread(os.path.join(path,img), cv2.IMREAD_GRAYSCALE)\n",
        "        new_array = cv2.resize(img_array, (IMG_SIZE,IMG_SIZE))\n",
        "        training_data.append([new_array, class_num])\n",
        "        counts[class_num] += 1\n",
        "      except Exception as e:\n",
        "        pass\n",
        "  print(counts)\n",
        "  return training_data"
      ],
      "execution_count": 26,
      "outputs": []
    },
    {
      "cell_type": "code",
      "metadata": {
        "colab": {
          "base_uri": "https://localhost:8080/"
        },
        "id": "5RdonoKO-IBG",
        "outputId": "0051d2f4-5a20-4a64-8064-6b08cd1d7e81"
      },
      "source": [
        "training_data = create_training_data()"
      ],
      "execution_count": 27,
      "outputs": [
        {
          "output_type": "stream",
          "name": "stdout",
          "text": [
            "{0: 10000, 1: 8954, 2: 10000, 3: 10000, 4: 10000, 5: 10000}\n"
          ]
        }
      ]
    },
    {
      "cell_type": "code",
      "metadata": {
        "colab": {
          "base_uri": "https://localhost:8080/"
        },
        "id": "r3FbSSkqUBqR",
        "outputId": "a2cc38c4-1f67-45c1-cd0d-41ccda650028"
      },
      "source": [
        "#seeing how many images are in the training data currently (All images from the set currently)\n",
        "print(len(training_data))"
      ],
      "execution_count": 28,
      "outputs": [
        {
          "output_type": "stream",
          "name": "stdout",
          "text": [
            "58954\n"
          ]
        }
      ]
    },
    {
      "cell_type": "code",
      "metadata": {
        "id": "5RY4uX_7VBw5"
      },
      "source": [
        "#Shuffle the data so that is randomized and can learn better\n",
        "np.random.seed(42)\n",
        "np.random.shuffle(training_data)"
      ],
      "execution_count": 29,
      "outputs": []
    },
    {
      "cell_type": "code",
      "metadata": {
        "colab": {
          "base_uri": "https://localhost:8080/"
        },
        "id": "oV-ZIbkOV0oh",
        "outputId": "a14b87cd-8430-4726-cc91-1665083da4f4"
      },
      "source": [
        "for sample in training_data[:10]:\n",
        "  print(sample[1])"
      ],
      "execution_count": 30,
      "outputs": [
        {
          "output_type": "stream",
          "name": "stdout",
          "text": [
            "0\n",
            "0\n",
            "4\n",
            "3\n",
            "2\n",
            "0\n",
            "0\n",
            "4\n",
            "0\n",
            "1\n"
          ]
        }
      ]
    },
    {
      "cell_type": "code",
      "metadata": {
        "id": "D0BMr6tNV8X5"
      },
      "source": [
        "X = []\n",
        "y = []"
      ],
      "execution_count": 31,
      "outputs": []
    },
    {
      "cell_type": "code",
      "metadata": {
        "id": "iNn5SltDWISx"
      },
      "source": [
        "for features, label in training_data:\n",
        "  X.append(features)\n",
        "  y.append(label)\n",
        "\n",
        "X = np.array(X).reshape(-1, IMG_SIZE, IMG_SIZE, 1)"
      ],
      "execution_count": 32,
      "outputs": []
    },
    {
      "cell_type": "code",
      "metadata": {
        "id": "JqWm8A_BWp-w"
      },
      "source": [
        "import pickle \n",
        "\n",
        "pickle_out = open(\"X.pickle\", \"wb\")\n",
        "pickle.dump(X, pickle_out)\n",
        "pickle_out.close()\n",
        "\n",
        "pickle_out = open(\"y.pickle\", \"wb\")\n",
        "pickle.dump(y, pickle_out)\n",
        "pickle_out.close()"
      ],
      "execution_count": 33,
      "outputs": []
    },
    {
      "cell_type": "code",
      "metadata": {
        "id": "pbK3LUTlXRuo"
      },
      "source": [
        "pickle_in = open(\"X.pickle\",\"rb\")\n",
        "X = pickle.load(pickle_in)"
      ],
      "execution_count": 34,
      "outputs": []
    },
    {
      "cell_type": "markdown",
      "metadata": {
        "id": "EOKMRFsmLmQH"
      },
      "source": [
        "Load the data into arrays"
      ]
    },
    {
      "cell_type": "code",
      "metadata": {
        "id": "JWqtag61FtEl"
      },
      "source": [
        "import pickle\n",
        "\n",
        "X = pickle.load(open(\"X.pickle\", \"rb\"))\n",
        "y = pickle.load(open(\"y.pickle\", \"rb\"))\n",
        "\n",
        "X = np.array(X)\n",
        "y = np.array(y)"
      ],
      "execution_count": 35,
      "outputs": []
    },
    {
      "cell_type": "markdown",
      "metadata": {
        "id": "JRWx38dwLp9k"
      },
      "source": [
        "Unpack the data into training, validation, and test sets."
      ]
    },
    {
      "cell_type": "code",
      "metadata": {
        "colab": {
          "base_uri": "https://localhost:8080/"
        },
        "id": "ob4WFmyHMm_U",
        "outputId": "bcff429d-33e1-4004-cdca-0170d64b1438"
      },
      "source": [
        "X = X/255.0\n",
        "\n",
        "X_train_full, X_test = X[:-5000], X[-5000:]\n",
        "X_train, X_valid = X_train_full[:-5000], X_train_full[-5000:]\n",
        "\n",
        "y_train_full, y_test = y[:-5000], y[-5000:]\n",
        "y_train, y_valid = y_train_full[:-5000], y_train_full[-5000:]\n",
        "\n",
        "print(\"Full training dataset shape:\", X_train_full.shape)\n",
        "print(\"Test dataset shape:\", X_test.shape)\n",
        "print(\"Training dataset shape:\", X_train.shape)\n",
        "print(\"Validation dataset shape:\", X_valid.shape)\n",
        "print()\n",
        "\n",
        "print(\"Full training labelset shape:\", y_train_full.shape)\n",
        "print(\"Test labelset shape:\", y_test.shape)\n",
        "print(\"Training labelset shape:\", y_train.shape)\n",
        "print(\"Validation labelset shape:\", y_valid.shape)\n"
      ],
      "execution_count": 36,
      "outputs": [
        {
          "output_type": "stream",
          "name": "stdout",
          "text": [
            "Full training dataset shape: (53954, 50, 50, 1)\n",
            "Test dataset shape: (5000, 50, 50, 1)\n",
            "Training dataset shape: (48954, 50, 50, 1)\n",
            "Validation dataset shape: (5000, 50, 50, 1)\n",
            "\n",
            "Full training labelset shape: (53954,)\n",
            "Test labelset shape: (5000,)\n",
            "Training labelset shape: (48954,)\n",
            "Validation labelset shape: (5000,)\n"
          ]
        }
      ]
    },
    {
      "cell_type": "markdown",
      "metadata": {
        "id": "_fRfhP34X3y6"
      },
      "source": [
        "#Creation of first model"
      ]
    },
    {
      "cell_type": "code",
      "metadata": {
        "id": "RbJHEKk5QAtz"
      },
      "source": [
        "import tensorflow as tf\n",
        "from tensorflow.keras.models import Sequential\n",
        "from tensorflow.keras.layers import Dense, Dropout, Activation, Flatten, Conv2D, MaxPooling2D\n"
      ],
      "execution_count": 37,
      "outputs": []
    },
    {
      "cell_type": "code",
      "metadata": {
        "id": "hJ-lrfU3X-qY"
      },
      "source": [
        "#Creating our CNN \n",
        "cnn = Sequential()\n",
        "cnn.add(tf.keras.layers.Conv2D(filters=64, kernel_size=7, activation=\"relu\", padding = \"same\", input_shape = X.shape[1:]))\n",
        "cnn.add(tf.keras.layers.MaxPool2D(pool_size=2, strides=2)) #Pooling 2\n",
        "cnn.add(tf.keras.layers.Conv2D(filters=128, kernel_size=3, activation=\"relu\", padding = \"same\")) #Convolution 2\n",
        "cnn.add(tf.keras.layers.MaxPool2D(pool_size=2, strides=2)) #Pooling 2\n",
        "cnn.add(tf.keras.layers.Conv2D(filters=256, kernel_size=3, activation=\"relu\", padding = \"same\")) #Convolution 4\n",
        "cnn.add(tf.keras.layers.MaxPool2D(pool_size=2, strides=2)) #Pooling 3\n",
        "cnn.add(tf.keras.layers.Conv2D(filters=128, kernel_size=3, activation=\"relu\", padding = \"same\")) #Convolution 4\n",
        "cnn.add(tf.keras.layers.MaxPool2D(pool_size=2, strides=2)) #Pooling 3\n",
        "cnn.add(tf.keras.layers.Flatten()) #Flaterning\n",
        "cnn.add(tf.keras.layers.Dense(units=128, activation=\"relu\"))#Full Connection1\n",
        "tf.keras.layers.Dropout(0.5)\n",
        "cnn.add(tf.keras.layers.Dense(units=64, activation=\"relu\"))#Full Connection2\n",
        "tf.keras.layers.Dropout(0.5)\n",
        "cnn.add(tf.keras.layers.Dense(units= 6, activation= \"softmax\"))#Output layer\n",
        "\n",
        "cnn.compile(loss = \"sparse_categorical_crossentropy\",\n",
        "              optimizer=\"adam\",\n",
        "              metrics = [\"accuracy\"])\n",
        "\n"
      ],
      "execution_count": 59,
      "outputs": []
    },
    {
      "cell_type": "code",
      "metadata": {
        "colab": {
          "base_uri": "https://localhost:8080/"
        },
        "id": "ZUV_bEcLlg_3",
        "outputId": "81a37983-1524-4989-9457-43b827aae280"
      },
      "source": [
        "cnn.summary()"
      ],
      "execution_count": 60,
      "outputs": [
        {
          "output_type": "stream",
          "name": "stdout",
          "text": [
            "Model: \"sequential_8\"\n",
            "_________________________________________________________________\n",
            " Layer (type)                Output Shape              Param #   \n",
            "=================================================================\n",
            " conv2d_38 (Conv2D)          (None, 50, 50, 64)        3200      \n",
            "                                                                 \n",
            " max_pooling2d_24 (MaxPoolin  (None, 25, 25, 64)       0         \n",
            " g2D)                                                            \n",
            "                                                                 \n",
            " conv2d_39 (Conv2D)          (None, 25, 25, 128)       73856     \n",
            "                                                                 \n",
            " max_pooling2d_25 (MaxPoolin  (None, 12, 12, 128)      0         \n",
            " g2D)                                                            \n",
            "                                                                 \n",
            " conv2d_40 (Conv2D)          (None, 12, 12, 256)       295168    \n",
            "                                                                 \n",
            " max_pooling2d_26 (MaxPoolin  (None, 6, 6, 256)        0         \n",
            " g2D)                                                            \n",
            "                                                                 \n",
            " conv2d_41 (Conv2D)          (None, 6, 6, 128)         295040    \n",
            "                                                                 \n",
            " max_pooling2d_27 (MaxPoolin  (None, 3, 3, 128)        0         \n",
            " g2D)                                                            \n",
            "                                                                 \n",
            " flatten_8 (Flatten)         (None, 1152)              0         \n",
            "                                                                 \n",
            " dense_24 (Dense)            (None, 128)               147584    \n",
            "                                                                 \n",
            " dense_25 (Dense)            (None, 64)                8256      \n",
            "                                                                 \n",
            " dense_26 (Dense)            (None, 6)                 390       \n",
            "                                                                 \n",
            "=================================================================\n",
            "Total params: 823,494\n",
            "Trainable params: 823,494\n",
            "Non-trainable params: 0\n",
            "_________________________________________________________________\n"
          ]
        }
      ]
    },
    {
      "cell_type": "code",
      "metadata": {
        "colab": {
          "base_uri": "https://localhost:8080/"
        },
        "id": "8anCRWLHih0X",
        "outputId": "ac49a39c-e275-4a75-b750-4494237b4cfe"
      },
      "source": [
        "cnn.fit(X_train, y_train, validation_data=(X_valid, y_valid), batch_size=100, epochs=10)\n"
      ],
      "execution_count": 61,
      "outputs": [
        {
          "output_type": "stream",
          "name": "stdout",
          "text": [
            "Epoch 1/10\n",
            "490/490 [==============================] - 24s 47ms/step - loss: 0.0855 - accuracy: 0.9716 - val_loss: 0.0101 - val_accuracy: 0.9976\n",
            "Epoch 2/10\n",
            "490/490 [==============================] - 22s 46ms/step - loss: 0.0095 - accuracy: 0.9977 - val_loss: 0.0053 - val_accuracy: 0.9990\n",
            "Epoch 3/10\n",
            "490/490 [==============================] - 22s 45ms/step - loss: 0.0117 - accuracy: 0.9975 - val_loss: 0.0026 - val_accuracy: 0.9994\n",
            "Epoch 4/10\n",
            "490/490 [==============================] - 22s 45ms/step - loss: 0.0038 - accuracy: 0.9991 - val_loss: 0.0082 - val_accuracy: 0.9986\n",
            "Epoch 5/10\n",
            "490/490 [==============================] - 22s 45ms/step - loss: 0.0050 - accuracy: 0.9987 - val_loss: 0.0036 - val_accuracy: 0.9994\n",
            "Epoch 6/10\n",
            "490/490 [==============================] - 22s 44ms/step - loss: 0.0036 - accuracy: 0.9988 - val_loss: 0.0060 - val_accuracy: 0.9992\n",
            "Epoch 7/10\n",
            "490/490 [==============================] - 22s 44ms/step - loss: 0.0019 - accuracy: 0.9995 - val_loss: 0.0029 - val_accuracy: 0.9992\n",
            "Epoch 8/10\n",
            "490/490 [==============================] - 22s 45ms/step - loss: 0.0022 - accuracy: 0.9993 - val_loss: 0.0044 - val_accuracy: 0.9986\n",
            "Epoch 9/10\n",
            "490/490 [==============================] - 22s 45ms/step - loss: 0.0075 - accuracy: 0.9984 - val_loss: 0.0035 - val_accuracy: 0.9990\n",
            "Epoch 10/10\n",
            "490/490 [==============================] - 22s 45ms/step - loss: 0.0035 - accuracy: 0.9992 - val_loss: 0.0019 - val_accuracy: 0.9996\n"
          ]
        },
        {
          "output_type": "execute_result",
          "data": {
            "text/plain": [
              "<keras.callbacks.History at 0x7f501f00c3d0>"
            ]
          },
          "metadata": {},
          "execution_count": 61
        }
      ]
    },
    {
      "cell_type": "code",
      "metadata": {
        "colab": {
          "base_uri": "https://localhost:8080/"
        },
        "id": "qNF-1nWIj5LJ",
        "outputId": "3f7b5a37-ac37-4ac1-e502-f836be761ea9"
      },
      "source": [
        "score = cnn.evaluate(X_test, y_test)\n",
        "print('Total loss on testing set:', score[0])\n",
        "print('Accuracy on testing set:', score[1])"
      ],
      "execution_count": 62,
      "outputs": [
        {
          "output_type": "stream",
          "name": "stdout",
          "text": [
            "157/157 [==============================] - 2s 11ms/step - loss: 2.8293e-04 - accuracy: 1.0000\n",
            "Total loss on testing set: 0.000282929657259956\n",
            "Accuracy on testing set: 1.0\n"
          ]
        }
      ]
    },
    {
      "cell_type": "code",
      "metadata": {
        "colab": {
          "base_uri": "https://localhost:8080/"
        },
        "id": "aU6KvEiZkawT",
        "outputId": "77d4eaa9-4d1f-491c-f2d5-ef3fce7385b3"
      },
      "source": [
        "X_new = X_test[:10]\n",
        "y_pred = np.argmax(cnn.predict(X_new), axis=-1)\n",
        "print(\"Prediction:\", y_pred)\n",
        "y_new = y_test[:10]\n",
        "print(\"Actual    :\", y_new)"
      ],
      "execution_count": 63,
      "outputs": [
        {
          "output_type": "stream",
          "name": "stdout",
          "text": [
            "Prediction: [1 1 2 5 3 3 5 1 2 4]\n",
            "Actual    : [1 1 2 5 3 3 5 1 2 4]\n"
          ]
        }
      ]
    },
    {
      "cell_type": "markdown",
      "metadata": {
        "id": "--fl5RXmuYre"
      },
      "source": [
        "#Creation of second model"
      ]
    },
    {
      "cell_type": "markdown",
      "metadata": {
        "id": "vDi300eTjFEN"
      },
      "source": [
        "Data format needs to be slightly altered to work with a feed forward network. X needs to be 2 dimensional and y needs to be one hot encoded."
      ]
    },
    {
      "cell_type": "code",
      "metadata": {
        "id": "WU0z2mp3jNfh"
      },
      "source": [
        "X_train = X_train.squeeze()\n",
        "X_valid = X_valid.squeeze()\n",
        "X_test = X_test.squeeze()"
      ],
      "execution_count": null,
      "outputs": []
    },
    {
      "cell_type": "code",
      "metadata": {
        "id": "V3SkcjWpjUSE"
      },
      "source": [
        "# y_train\n",
        "shape = (y_train.size, y_train.max()+1)\n",
        "one_hot = np.zeros(shape)\n",
        "rows = np.arange(y_train.size)\n",
        "one_hot[rows, y_train] = 1\n",
        "y_train_one_hot = one_hot\n",
        "\n",
        "#y_valid\n",
        "shape = (y_valid.size, y_valid.max()+1)\n",
        "one_hot = np.zeros(shape)\n",
        "rows = np.arange(y_valid.size)\n",
        "one_hot[rows, y_valid] = 1\n",
        "y_valid_one_hot = one_hot\n",
        "\n",
        "#y_test\n",
        "shape = (y_test.size, y_test.max()+1)\n",
        "one_hot = np.zeros(shape)\n",
        "rows = np.arange(y_test.size)\n",
        "one_hot[rows, y_test] = 1\n",
        "y_test_one_hot = one_hot"
      ],
      "execution_count": null,
      "outputs": []
    },
    {
      "cell_type": "code",
      "metadata": {
        "colab": {
          "base_uri": "https://localhost:8080/"
        },
        "id": "lIFkOXS0lzpS",
        "outputId": "4b1f7b78-96cf-4ea7-a435-38b73b7afa5e"
      },
      "source": [
        "print(X_train.shape[1:])"
      ],
      "execution_count": null,
      "outputs": [
        {
          "output_type": "stream",
          "name": "stdout",
          "text": [
            "(50, 50)\n"
          ]
        }
      ]
    },
    {
      "cell_type": "code",
      "metadata": {
        "id": "_RXws_zNuaxO"
      },
      "source": [
        "model2 = tf.keras.models.Sequential()\n",
        "model2.add(tf.keras.layers.Flatten(input_shape=X.shape[1:]))\n",
        "model2.add(tf.keras.layers.Dense(units=500, activation=\"sigmoid\"))\n",
        "model2.add(tf.keras.layers.Dense(units=200, activation=\"sigmoid\"))\n",
        "model2.add(tf.keras.layers.Dense(units=6, activation=\"softmax\"))"
      ],
      "execution_count": null,
      "outputs": []
    },
    {
      "cell_type": "code",
      "metadata": {
        "colab": {
          "base_uri": "https://localhost:8080/"
        },
        "id": "qMkARW4vupH0",
        "outputId": "c21e72ae-1d93-4df0-f644-5acda517aae1"
      },
      "source": [
        "model2.summary()"
      ],
      "execution_count": null,
      "outputs": [
        {
          "output_type": "stream",
          "name": "stdout",
          "text": [
            "Model: \"sequential_18\"\n",
            "_________________________________________________________________\n",
            " Layer (type)                Output Shape              Param #   \n",
            "=================================================================\n",
            " flatten_18 (Flatten)        (None, 2500)              0         \n",
            "                                                                 \n",
            " dense_85 (Dense)            (None, 500)               1250500   \n",
            "                                                                 \n",
            " dense_86 (Dense)            (None, 200)               100200    \n",
            "                                                                 \n",
            " dense_87 (Dense)            (None, 6)                 1206      \n",
            "                                                                 \n",
            "=================================================================\n",
            "Total params: 1,351,906\n",
            "Trainable params: 1,351,906\n",
            "Non-trainable params: 0\n",
            "_________________________________________________________________\n"
          ]
        }
      ]
    },
    {
      "cell_type": "code",
      "metadata": {
        "id": "cKIZU1_yup5s"
      },
      "source": [
        "model2.compile(loss = \"categorical_crossentropy\",\n",
        "              optimizer = \"adam\",\n",
        "              metrics=[\"accuracy\"])"
      ],
      "execution_count": null,
      "outputs": []
    },
    {
      "cell_type": "code",
      "metadata": {
        "colab": {
          "base_uri": "https://localhost:8080/"
        },
        "id": "kbGcYCN3DyiF",
        "outputId": "55ee7182-7590-4def-e7d7-b6900e5a0ee0"
      },
      "source": [
        "model2.fit(X_train, y_train_one_hot, validation_data=(X_valid, y_valid_one_hot), batch_size=100, epochs=25)"
      ],
      "execution_count": null,
      "outputs": [
        {
          "output_type": "stream",
          "name": "stdout",
          "text": [
            "Epoch 1/25\n",
            "490/490 [==============================] - 4s 7ms/step - loss: 0.1430 - accuracy: 0.9598 - val_loss: 0.0382 - val_accuracy: 0.9922\n",
            "Epoch 2/25\n",
            "490/490 [==============================] - 3s 6ms/step - loss: 0.0330 - accuracy: 0.9921 - val_loss: 0.0280 - val_accuracy: 0.9938\n",
            "Epoch 3/25\n",
            "490/490 [==============================] - 3s 6ms/step - loss: 0.0175 - accuracy: 0.9956 - val_loss: 0.0181 - val_accuracy: 0.9958\n",
            "Epoch 4/25\n",
            "490/490 [==============================] - 3s 6ms/step - loss: 0.0146 - accuracy: 0.9960 - val_loss: 0.0129 - val_accuracy: 0.9960\n",
            "Epoch 5/25\n",
            "490/490 [==============================] - 3s 6ms/step - loss: 0.0107 - accuracy: 0.9970 - val_loss: 0.0219 - val_accuracy: 0.9938\n",
            "Epoch 6/25\n",
            "490/490 [==============================] - 3s 6ms/step - loss: 0.0085 - accuracy: 0.9976 - val_loss: 0.0163 - val_accuracy: 0.9956\n",
            "Epoch 7/25\n",
            "490/490 [==============================] - 3s 6ms/step - loss: 0.0088 - accuracy: 0.9973 - val_loss: 0.0117 - val_accuracy: 0.9966\n",
            "Epoch 8/25\n",
            "490/490 [==============================] - 3s 6ms/step - loss: 0.0155 - accuracy: 0.9950 - val_loss: 0.0107 - val_accuracy: 0.9974\n",
            "Epoch 9/25\n",
            "490/490 [==============================] - 3s 6ms/step - loss: 0.0070 - accuracy: 0.9979 - val_loss: 0.0360 - val_accuracy: 0.9846\n",
            "Epoch 10/25\n",
            "490/490 [==============================] - 3s 6ms/step - loss: 0.0079 - accuracy: 0.9976 - val_loss: 0.0125 - val_accuracy: 0.9956\n",
            "Epoch 11/25\n",
            "490/490 [==============================] - 3s 6ms/step - loss: 0.0079 - accuracy: 0.9979 - val_loss: 0.0158 - val_accuracy: 0.9962\n",
            "Epoch 12/25\n",
            "490/490 [==============================] - 3s 6ms/step - loss: 0.0062 - accuracy: 0.9981 - val_loss: 0.0127 - val_accuracy: 0.9956\n",
            "Epoch 13/25\n",
            "490/490 [==============================] - 3s 6ms/step - loss: 0.0109 - accuracy: 0.9966 - val_loss: 0.0072 - val_accuracy: 0.9972\n",
            "Epoch 14/25\n",
            "490/490 [==============================] - 3s 6ms/step - loss: 0.0126 - accuracy: 0.9962 - val_loss: 0.0122 - val_accuracy: 0.9966\n",
            "Epoch 15/25\n",
            "490/490 [==============================] - 3s 6ms/step - loss: 0.0040 - accuracy: 0.9989 - val_loss: 0.0089 - val_accuracy: 0.9980\n",
            "Epoch 16/25\n",
            "490/490 [==============================] - 3s 6ms/step - loss: 0.0064 - accuracy: 0.9981 - val_loss: 0.0091 - val_accuracy: 0.9978\n",
            "Epoch 17/25\n",
            "490/490 [==============================] - 3s 6ms/step - loss: 0.0055 - accuracy: 0.9981 - val_loss: 0.0165 - val_accuracy: 0.9950\n",
            "Epoch 18/25\n",
            "490/490 [==============================] - 3s 6ms/step - loss: 0.0111 - accuracy: 0.9963 - val_loss: 0.0093 - val_accuracy: 0.9978\n",
            "Epoch 19/25\n",
            "490/490 [==============================] - 3s 6ms/step - loss: 0.0062 - accuracy: 0.9981 - val_loss: 0.0116 - val_accuracy: 0.9970\n",
            "Epoch 20/25\n",
            "490/490 [==============================] - 3s 6ms/step - loss: 0.0054 - accuracy: 0.9983 - val_loss: 0.0139 - val_accuracy: 0.9956\n",
            "Epoch 21/25\n",
            "490/490 [==============================] - 3s 6ms/step - loss: 0.0045 - accuracy: 0.9986 - val_loss: 0.0094 - val_accuracy: 0.9978\n",
            "Epoch 22/25\n",
            "490/490 [==============================] - 3s 6ms/step - loss: 0.0061 - accuracy: 0.9981 - val_loss: 0.0160 - val_accuracy: 0.9960\n",
            "Epoch 23/25\n",
            "490/490 [==============================] - 3s 6ms/step - loss: 0.0069 - accuracy: 0.9981 - val_loss: 0.0170 - val_accuracy: 0.9962\n",
            "Epoch 24/25\n",
            "490/490 [==============================] - 3s 6ms/step - loss: 0.0047 - accuracy: 0.9986 - val_loss: 0.0096 - val_accuracy: 0.9970\n",
            "Epoch 25/25\n",
            "490/490 [==============================] - 3s 6ms/step - loss: 0.0052 - accuracy: 0.9984 - val_loss: 0.0090 - val_accuracy: 0.9976\n"
          ]
        },
        {
          "output_type": "execute_result",
          "data": {
            "text/plain": [
              "<keras.callbacks.History at 0x7fb2d52372d0>"
            ]
          },
          "metadata": {},
          "execution_count": 129
        }
      ]
    },
    {
      "cell_type": "code",
      "metadata": {
        "colab": {
          "base_uri": "https://localhost:8080/"
        },
        "id": "5Rt4-OtLFW1l",
        "outputId": "7e1186c0-24f1-4f38-934a-0ab306c77f8e"
      },
      "source": [
        "score = model2.evaluate(X_test, y_test_one_hot)\n",
        "print('Total loss on testing set:', score[0])\n",
        "print('Accuracy on testing set:', score[1])"
      ],
      "execution_count": null,
      "outputs": [
        {
          "output_type": "stream",
          "name": "stdout",
          "text": [
            "157/157 [==============================] - 1s 4ms/step - loss: 0.0051 - accuracy: 0.9984\n",
            "Total loss on testing set: 0.005107399076223373\n",
            "Accuracy on testing set: 0.9983999729156494\n"
          ]
        }
      ]
    },
    {
      "cell_type": "code",
      "metadata": {
        "colab": {
          "base_uri": "https://localhost:8080/",
          "height": 282
        },
        "id": "iUFuI8lZR9al",
        "outputId": "021ab08c-c969-4375-d6d2-d12ebf2554e7"
      },
      "source": [
        "X_new = X_test[:10]\n",
        "y_pred = np.argmax(model2.predict(X_new), axis=-1)\n",
        "print(\"Prediction:\", y_pred)\n",
        "y_new = np.array([np.argmax(value) for value in y_test_one_hot[:10]])\n",
        "print(\"Actual    :\", y_new)\n",
        "\n",
        "plt.imshow(X_new[-1], cmap=\"binary\")\n",
        "plt.axis('off')\n",
        "plt.show()"
      ],
      "execution_count": null,
      "outputs": [
        {
          "output_type": "stream",
          "name": "stdout",
          "text": [
            "Prediction: [1 1 2 5 3 3 5 1 2 4]\n",
            "Actual    : [1 1 2 5 3 3 5 1 2 4]\n"
          ]
        },
        {
          "output_type": "display_data",
          "data": {
            "image/png": "[encoded data removed]",
            "text/plain": [
              "<Figure size 432x288 with 1 Axes>"
            ]
          },
          "metadata": {
            "needs_background": "light"
          }
        }
      ]
    }
  ]
}